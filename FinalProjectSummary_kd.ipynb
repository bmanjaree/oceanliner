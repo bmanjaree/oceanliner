{
 "cells": [
  {
   "cell_type": "markdown",
   "id": "d3e15606-e20b-45ed-872f-1dac2b874aa6",
   "metadata": {},
   "source": [
    "# OHW 2021 - Model Subsampling Project\n",
    "\n",
    "## OceanHackWeek21 project to subsample high-resolution model output as if by gliders, ships, or other *in situ* platforms\n",
    "\n",
    "The goal of this project is to create a Python package that takes an input trajectory (e.g., the path of an ocean glider or a ship-based underway CTD), subsamples output from a high-resolution ocean simulation along that trajectory, and returns a set of subsampled variables (e.g., standard physical variables temperature, salinity, velocity; derived physical quantities such as steric height; biogeochemical quantities if available). We envision this package having two potential uses: 1) designing in situ sampling strategies, and 2) interpreting in situ data in the context of a highly resolved oceanographic model."
   ]
  },
  {
   "cell_type": "code",
   "execution_count": 26,
   "id": "02b986eb-9b7a-4472-8040-ddbfc81e7290",
   "metadata": {},
   "outputs": [],
   "source": [
    "## Imports\n",
    "\n",
    "# Third-party packages for data manipulation\n",
    "import numpy as np\n",
    "import pandas as pd\n",
    "import xarray as xr\n",
    "\n",
    "# Third-party packages for data interpolation\n",
    "from scipy import interpolate\n",
    "\n",
    "# Third-party packages for data visualizations\n",
    "import geopandas as gpd\n",
    "import matplotlib.pyplot as plt\n",
    "\n",
    "%matplotlib inline"
   ]
  },
  {
   "cell_type": "markdown",
   "id": "d03f896a-a591-4627-9978-1587a7adfd7e",
   "metadata": {},
   "source": [
    "### Import model data\n",
    "\n",
    "We chose to subsample [LLC4320](https://data.nas.nasa.gov/viz/vizdata/llc4320/index.html), the 1/48-degree global MITgcm simulation produced by the ECCO project. Ten regional cut-outs of the simulation are available on the [PO.DAAC](https://podaac.jpl.nasa.gov/datasetlist?ids=Processing+Levels&values=4+-+Gridded+Model+Output&search=Pre-SWOT+llc4320&view=list&provider=): the 4x4 degree regiononal domains are small enough to enable fairly easy downloads and processing. The data from the model were retrieved using the first section of [`Pre-SWOT_Numerical_Simulation_Demo.ipynb`](https://github.com/podaac/tutorials/blob/master/notebooks/Pre-SWOT_Numerical_Simulation_Demo.ipynb) (everything before the \"Plot eight 2D fields\" heading) and saved as `LLC4320_pre-SWOT_ACC_SMST_20111221.nc`. "
   ]
  },
  {
   "cell_type": "code",
   "execution_count": 27,
   "id": "d005bccf-90f9-4441-85a3-717118c10b35",
   "metadata": {},
   "outputs": [],
   "source": [
    "## Load model data\n",
    "ndays = 3 # number of days to load\n",
    "target_files = [f\"LLC4320_pre-SWOT_ACC_SMST_201112{day}.nc\" for day in range(21,21+3)] # list target files\n",
    "# Load all netCDF files\n",
    "ds = xr.open_mfdataset(target_files)"
   ]
  },
  {
   "cell_type": "code",
   "execution_count": 36,
   "id": "0218832c-5445-491d-84e4-8b6a4ccc3d72",
   "metadata": {},
   "outputs": [],
   "source": [
    "# Change coordinate of time to make life easier\n",
    "ds = ds.assign_coords(time=np.linspace(1,ds.time.size, num=ds.time.size))"
   ]
  },
  {
   "cell_type": "markdown",
   "id": "2aaa87ee-c2c3-4b7c-8469-65c43e7f8f67",
   "metadata": {},
   "source": [
    "LLC4320 data does not have lat, lon as coordinates; instead the coordinates are simply index numbers. This means that the lon-lat-depth passed for the trajectory will have to be converted to the corresponding index numbers."
   ]
  },
  {
   "cell_type": "code",
   "execution_count": 28,
   "id": "daf2eb06-761a-4fda-bb26-8f4f938fb581",
   "metadata": {},
   "outputs": [],
   "source": [
    "## Convert lon, lat and z to index i, j and k with f_x, f_y and f_z\n",
    "X = ds.XC.isel(time=0) # XC, YC and Z are the same at all times, so select a single tim\n",
    "Y = ds.YC.isel(time=0)\n",
    "i = ds.i\n",
    "j = ds.j\n",
    "z = ds.Z.isel(time=0)\n",
    "k = ds.k\n",
    "\n",
    "f_x = interpolate.interp1d(X[0,:].values, i)\n",
    "f_y = interpolate.interp1d(Y[:,0].values, j)\n",
    "f_z = interpolate.interp1d(z, k, bounds_error=False)"
   ]
  },
  {
   "cell_type": "markdown",
   "id": "16e7e749-fffa-48f4-bd31-d3dc3498814c",
   "metadata": {},
   "source": [
    "## Select sampling strategy\n",
    "\n",
    "Use the SAMPLING_STRATEGY variable to select whether you want to sample the model using a real glider track ('real_glider'), a simulated glider track ('sim_glider') or a simulated underway ctd ('sim_uctd')"
   ]
  },
  {
   "cell_type": "code",
   "execution_count": 29,
   "id": "e4564d0d-33a1-489d-b051-54e166a0914d",
   "metadata": {},
   "outputs": [],
   "source": [
    "SAMPLING_STRATEGY = 'real_glider' "
   ]
  },
  {
   "cell_type": "markdown",
   "id": "69f97e72-0d1d-4588-8447-560b65b32c00",
   "metadata": {},
   "source": [
    "### If you would like to subsample the model using a real glider track, run the following cells.\n",
    "\n",
    "Our example glider track original came from [this repo](https://github.com/earthcube2021/ec21_balwada_etal). It wasn't inside one of the regions covered by LLC4320. Here, we load the trajectory and transpose it such that it fits within the Southern Ocean region."
   ]
  },
  {
   "cell_type": "code",
   "execution_count": 39,
   "id": "0a691b87-fc2b-4894-a2d2-5dcf02ff2fdf",
   "metadata": {},
   "outputs": [
    {
     "name": "stdout",
     "output_type": "stream",
     "text": [
      "Original glider boundaries:\n",
      "North: -50.363265\n",
      "South: -53.458083333333335\n",
      "East: 38.99485\n",
      "West: 30.026965\n",
      "\n",
      "Model boundaries:\n",
      "North: dask.array<nanmax-aggregate, shape=(), dtype=float32, chunksize=(), chunktype=numpy.ndarray>\n",
      "South: dask.array<nanmin-aggregate, shape=(), dtype=float32, chunksize=(), chunktype=numpy.ndarray>\n",
      "East: dask.array<nanmax-aggregate, shape=(), dtype=float32, chunksize=(), chunktype=numpy.ndarray>\n",
      "West: dask.array<nanmin-aggregate, shape=(), dtype=float32, chunksize=(), chunktype=numpy.ndarray>\n",
      "\n",
      "Transposed glider boundaries:\n",
      "North: dask.array<nanmax-aggregate, shape=(), dtype=float64, chunksize=(), chunktype=numpy.ndarray>\n",
      "South: dask.array<nanmin-aggregate, shape=(), dtype=float64, chunksize=(), chunktype=numpy.ndarray>\n",
      "East: dask.array<nanmax-aggregate, shape=(), dtype=float64, chunksize=(), chunktype=numpy.ndarray>\n",
      "West: dask.array<nanmin-aggregate, shape=(), dtype=float64, chunksize=(), chunktype=numpy.ndarray>\n",
      "\n"
     ]
    }
   ],
   "source": [
    "if SAMPLING_STRATEGY == 'real_glider':\n",
    "    ## Load and transpose glider data\n",
    "\n",
    "    # Load data\n",
    "    ds_CTD_659 = xr.load_dataset('CTD_659.nc')\n",
    "\n",
    "    # Print glider boundaries\n",
    "    s = 'Original glider boundaries:\\nNorth: {n}\\nSouth: {s}\\nEast: {e}\\nWest: {w}\\n'.format(\n",
    "        n=ds_CTD_659.latitude.data.max(),\n",
    "        s=ds_CTD_659.latitude.data.min(),\n",
    "        e=ds_CTD_659.longitude.data.max(),\n",
    "        w=ds_CTD_659.longitude.data.min()\n",
    "    )\n",
    "    print(s)\n",
    "\n",
    "    # Get boundaries of model region\n",
    "    model_boundary_n = ds.YC.max()\n",
    "    model_boundary_s = ds.YC.min()\n",
    "    model_boundary_w = ds.XC.min()\n",
    "    model_boundary_e = ds.XC.max()\n",
    "\n",
    "    # Print model boundaries\n",
    "    s = 'Model boundaries:\\nNorth: {n}\\nSouth: {s}\\nEast: {e}\\nWest: {w}\\n'.format(\n",
    "        n=model_boundary_n.data,\n",
    "        s=model_boundary_s.data,\n",
    "        e=model_boundary_e.data,\n",
    "        w=model_boundary_w.data\n",
    "    )\n",
    "    print(s)\n",
    "\n",
    "    # Transpose latitude\n",
    "    shifted_lat = (ds_CTD_659.latitude - ds_CTD_659.latitude.min()\n",
    "                  )/(ds_CTD_659.latitude.max() - ds_CTD_659.latitude.min()\n",
    "                    )*(model_boundary_n-model_boundary_s)+ model_boundary_s\n",
    "\n",
    "\n",
    "    # Transpose longitude\n",
    "    shifted_lon = (ds_CTD_659.longitude - ds_CTD_659.longitude.min()\n",
    "                  )/(ds_CTD_659.longitude.max() - ds_CTD_659.longitude.min()\n",
    "                    )*(model_boundary_e-model_boundary_w)+ model_boundary_w\n",
    "\n",
    "    # Print transposed glider boundaries\n",
    "    s = 'Transposed glider boundaries:\\nNorth: {n}\\nSouth: {s}\\nEast: {e}\\nWest: {w}\\n'.format(\n",
    "        n=shifted_lat.max().data,\n",
    "        s=shifted_lat.min().data,\n",
    "        e=shifted_lon.max().data,\n",
    "        w=shifted_lon.min().data\n",
    "    )\n",
    "    print(s)\n",
    "    \n",
    "    \n",
    "    ## Assemble trajectory dataset\n",
    "\n",
    "    # Remove NaN values from pressure (depth) data\n",
    "    depth = -ds_CTD_659.pressure.where(~np.isnan(ds_CTD_659.pressure), drop=True)\n",
    "    n = len(depth)\n",
    "\n",
    "    # Assemble dataset\n",
    "    survey_track = xr.Dataset(\n",
    "        dict(\n",
    "            i = xr.DataArray(f_x(shifted_lon.where(~np.isnan(ds_CTD_659.pressure), drop=True)), dims='points'),\n",
    "            j = xr.DataArray(f_y(shifted_lat.where(~np.isnan(ds_CTD_659.pressure), drop=True)), dims='points'),\n",
    "            k = xr.DataArray(f_z(depth), dims='points'),\n",
    "            time = xr.DataArray(np.linspace(ds.time[0], ds.time[1], num=n),dims='points'),\n",
    "        )\n",
    "    )"
   ]
  },
  {
   "cell_type": "code",
   "execution_count": 38,
   "id": "4d6b7794-11e6-4097-99d0-6161dc2e0442",
   "metadata": {},
   "outputs": [],
   "source": []
  },
  {
   "cell_type": "code",
   "execution_count": 40,
   "id": "823e05a9-e5dc-4996-a4ee-23215945f1f4",
   "metadata": {},
   "outputs": [
    {
     "data": {
      "text/plain": [
       "numpy.datetime64('2011-12-21T00:00:00.000000000')"
      ]
     },
     "execution_count": 40,
     "metadata": {},
     "output_type": "execute_result"
    }
   ],
   "source": [
    "ds.time.data[0]"
   ]
  },
  {
   "cell_type": "code",
   "execution_count": null,
   "id": "dcfc9091-3625-4e18-a04b-d60d44ae26f4",
   "metadata": {},
   "outputs": [],
   "source": []
  }
 ],
 "metadata": {
  "kernelspec": {
   "display_name": "Python [conda env:root] *",
   "language": "python",
   "name": "conda-root-py"
  },
  "language_info": {
   "codemirror_mode": {
    "name": "ipython",
    "version": 3
   },
   "file_extension": ".py",
   "mimetype": "text/x-python",
   "name": "python",
   "nbconvert_exporter": "python",
   "pygments_lexer": "ipython3",
   "version": "3.9.6"
  }
 },
 "nbformat": 4,
 "nbformat_minor": 5
}
