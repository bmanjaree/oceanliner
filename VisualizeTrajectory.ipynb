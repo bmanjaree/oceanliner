{
 "cells": [
  {
   "cell_type": "markdown",
   "id": "026aa11c-8624-4500-927b-6059400dd1bf",
   "metadata": {},
   "source": [
    "# Visualize trajectory\n",
    "\n",
    "Cassia's code to visualize a trajectory, updated to plot real glider trajectory"
   ]
  },
  {
   "cell_type": "code",
   "execution_count": 1,
   "id": "d81f8ee8-1aae-44ea-bc8b-c4624b53f450",
   "metadata": {},
   "outputs": [],
   "source": [
    "## Imports\n",
    "\n",
    "# Third-party packags\n",
    "import pandas as pd\n",
    "import numpy as np\n",
    "import xarray as xr\n",
    "\n",
    "# Third-party packages for plotting\n",
    "from matplotlib.widgets import Slider, Button, RadioButtons\n",
    "from mpl_toolkits import mplot3d\n",
    "from mpl_toolkits.mplot3d import axes3d\n",
    "import matplotlib.pyplot as plt\n",
    "%matplotlib qt"
   ]
  },
  {
   "cell_type": "code",
   "execution_count": 2,
   "id": "b9f8460d-4a93-4786-97c5-6585f88195a1",
   "metadata": {},
   "outputs": [],
   "source": [
    "## Load trajectory (using real data here as an example)\n",
    "\n",
    "ds_CTD_659 = xr.load_dataset('CTD_659.nc')"
   ]
  },
  {
   "cell_type": "code",
   "execution_count": 21,
   "id": "4841bf02-8524-4eb1-aad7-6dd53cbad674",
   "metadata": {},
   "outputs": [],
   "source": [
    "## Downsample to speed up plotting/improve lagging\n",
    "\n",
    "nptime = ds_CTD_659.time.data[0:-1:10]\n",
    "nplat = ds_CTD_659.latitude.data[0:-1:10]\n",
    "npdep = ds_CTD_659.pressure.data[0:-1:10]\n",
    "nplon = ds_CTD_659.longitude.data[0:-1:10]"
   ]
  },
  {
   "cell_type": "code",
   "execution_count": 48,
   "id": "bfa572bc-2bb8-4715-937b-b96ca9f80b7d",
   "metadata": {},
   "outputs": [
    {
     "data": {
      "text/plain": [
       "0"
      ]
     },
     "execution_count": 48,
     "metadata": {},
     "output_type": "execute_result"
    }
   ],
   "source": [
    "## Plot trajectory\n",
    "\n",
    "traj = np.array(list(zip(nplat, nplon, npdep)))\n",
    "\n",
    "fig = plt.figure(figsize=(15, 15))\n",
    "ax = plt.axes(projection='3d')\n",
    "fig.subplots_adjust(left=0.25, bottom=0.25)\n",
    "\n",
    "p = ax.scatter3D(nplon, nplat, npdep, c=npdep, s=0.75, cmap='Greens')\n",
    "fig.colorbar(p)\n",
    "\n",
    "# Slider ---- DLG made some changes here b/c nptime is composed of datetimes\n",
    "listtime = list(nptime)\n",
    "\n",
    "def update_point(val):\n",
    "    index = int(sliderwave.val)\n",
    "    ax.scatter3D(traj[index][1], traj[index][0], traj[index][2], c='red', s=10, marker='o')\n",
    "    fig.canvas.draw_idle()\n",
    "    \n",
    "axwave = plt.axes([0.25, 0.05, 0.5, 0.03])\n",
    "sliderwave = Slider(axwave, 'Time', 0, len(nptime), valinit=0, valstep=40)\n",
    "sliderwave.on_changed(update_point)"
   ]
  },
  {
   "cell_type": "code",
   "execution_count": null,
   "id": "527901e2-1f29-416f-9070-a738e1f086fd",
   "metadata": {},
   "outputs": [],
   "source": [
    "## Cassia's original code\n",
    "\n",
    "from matplotlib.widgets import Slider, Button, RadioButtons\n",
    "from mpl_toolkits import mplot3d\n",
    "from mpl_toolkits.mplot3d import axes3d\n",
    "import matplotlib.pyplot as plt\n",
    "%matplotlib qt\n",
    "\n",
    "nptime = np.array(survey.time)                                                                        # -------- survey from make_trajectory.ipynb\n",
    "nplat = np.array(survey.lat); npdep = np.array(survey.dep); nplon = np.array(survey.lon)\n",
    "traj = np.array(list(zip(nplat,nplon, npdep)))\n",
    "\n",
    "fig = plt.figure(figsize=(15, 15))\n",
    "ax = plt.axes(projection='3d')\n",
    "fig.subplots_adjust(left=0.25, bottom=0.25)\n",
    "\n",
    "# DATA FOR A 3D TRAJECTORY\n",
    "zline = survey.dep; xline = survey.lat; yline = survey.lon\n",
    "ax.plot3D(xline, yline, zline, 'black',linewidth=0.5)\n",
    "\n",
    "# DATA FOR 3D SCATTERED POINTS \n",
    "zdata = survey.dep; xdata = survey.lat; ydata = survey.lon\n",
    "ax.scatter3D(xdata, ydata, zdata, c=survey.time,s=0.75, cmap='Greens')\n",
    "\n",
    "p = ax.scatter(xdata, ydata, zdata, c=survey.time, s=0.75, cmap='Greens')\n",
    "fig.colorbar(p)\n",
    "\n",
    "# ADD INTERACTIVE SLIDER (MOVING DOT ON THE TRAJECTORY) ------ Need to troubleshoot bc works slowly/lags\n",
    "listtime = list(nptime)\n",
    "\n",
    "def update_point(val):\n",
    "    idx = int(sliderwave.val)\n",
    "    index = listtime.index(idx)\n",
    "    ax.scatter3D(traj[index][0], traj[index][1], traj[index][2], c='red',s=5,marker='o')\n",
    "    fig.canvas.draw_idle()\n",
    "    \n",
    "axwave = plt.axes([0.25, 0.05, 0.5, 0.03])\n",
    "sliderwave = Slider(axwave, 'Time', np.min(nptime), np.max(nptime),valinit=0, valstep=40.0)\n",
    "sliderwave.on_changed(update_point)\n",
    "\n",
    "# ROTATE THE AXES AND UPDATE ----- Need to troubleshoot bc it works even slower.\n",
    "# for angle in range(0, 360):\n",
    "#     ax.view_init(30, angle)\n",
    "#     plt.draw()\n",
    "#     plt.pause(.0001)\n",
    "\n",
    "# CREATE TWO SLIDERS FOR RANGE SELECTION ---- Maybe not what we're going for bc this is two sliders. Not quite right.\n",
    "axmin = fig.add_axes([0.25, 0.1, 0.65, 0.03])\n",
    "axmax  = fig.add_axes([0.25, 0.15, 0.65, 0.03])\n",
    "smin = Slider(axmin, 'Min', 0, np.max(nptime), valinit=min0)\n",
    "smax = Slider(axmax, 'Max', 0, np.max(nptime), valinit=max0)\n",
    "\n",
    "def update(val):\n",
    "    plt.ylim([smin.val,smax.val])\n",
    "    min_idx = int(smin.val); max_idx = int(smax.val)\n",
    "    minindex = listtime.index(min_idx); maxindex = listtime.index(max_idx)\n",
    "    ax.scatter3D(traj[minindex:maxindex][0], traj[minindex:maxindex][1], traj[minindex:maxindex][2], c='red',s=5,marker='o')\n",
    "    ax.canvas.draw()#unsure on this\n",
    "\n",
    "smin.on_changed(update)\n",
    "smax.on_changed(update)"
   ]
  }
 ],
 "metadata": {
  "kernelspec": {
   "display_name": "Python [conda env:OHW] *",
   "language": "python",
   "name": "conda-env-OHW-py"
  },
  "language_info": {
   "codemirror_mode": {
    "name": "ipython",
    "version": 3
   },
   "file_extension": ".py",
   "mimetype": "text/x-python",
   "name": "python",
   "nbconvert_exporter": "python",
   "pygments_lexer": "ipython3",
   "version": "3.9.6"
  }
 },
 "nbformat": 4,
 "nbformat_minor": 5
}
