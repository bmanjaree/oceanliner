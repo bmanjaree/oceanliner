{
 "cells": [
  {
   "cell_type": "markdown",
   "id": "d3e15606-e20b-45ed-872f-1dac2b874aa6",
   "metadata": {},
   "source": [
    "# OHW 2021 - Model Subsampling Project\n",
    "\n",
    "## OceanHackWeek21 project to subsample high-resolution model output as if by gliders, ships, or other *in situ* platforms\n",
    "\n",
    "The goal of this project is to create a Python package that takes an input trajectory (e.g., the path of an ocean glider), subsamples output from a high-resolution ocean simulation along that trajectory, and returns a set of subsampled variables (e.g., standard physical variables temperature, salinity, velocity; derived physical quantities such as steric height; biogeochemical quantities if available). We envision this package having two potential uses: 1) designing in situ sampling strategies, and 2) interpreting in situ data in the context of a highly resolved oceanographic model."
   ]
  },
  {
   "cell_type": "code",
   "execution_count": 33,
   "id": "02b986eb-9b7a-4472-8040-ddbfc81e7290",
   "metadata": {},
   "outputs": [],
   "source": [
    "## Imports\n",
    "\n",
    "# Third-party packages for data manipulation\n",
    "import numpy as np\n",
    "import pandas as pd\n",
    "import xarray as xr\n",
    "\n",
    "# Third-party packages for data interpolation\n",
    "from scipy import interpolate\n",
    "\n",
    "# Third-party packages for data visualizations\n",
    "import geopandas as gpd\n",
    "import matplotlib.pyplot as plt\n",
    "\n",
    "%matplotlib inline"
   ]
  },
  {
   "cell_type": "markdown",
   "id": "d03f896a-a591-4627-9978-1587a7adfd7e",
   "metadata": {},
   "source": [
    "### Import model data\n",
    "\n",
    "We chose to subsample [LLC4320](https://podaac.jpl.nasa.gov/datasetlist?ids=Processing+Levels&values=4+-+Gridded+Model+Output&search=Pre-SWOT+llc4320&view=list&provider=). [DOES ANYONE WANT TO SAY MORE ABOUT THIS?]. The data from the model was retrieved using the first section of `Pre-SWOT_Numerical_Simulation_Demo.ipynb` (everything before the \"Plot eight 2D fields\" heading) and saved as `LLC4320_pre-SWOT_ACC_SMST_20111221.nc`. Here, we just load the data file. "
   ]
  },
  {
   "cell_type": "code",
   "execution_count": 34,
   "id": "d005bccf-90f9-4441-85a3-717118c10b35",
   "metadata": {},
   "outputs": [],
   "source": [
    "## Load model data\n",
    "\n",
    "ds = xr.open_dataset('LLC4320_pre-SWOT_ACC_SMST_20111221.nc')"
   ]
  },
  {
   "cell_type": "markdown",
   "id": "69f97e72-0d1d-4588-8447-560b65b32c00",
   "metadata": {},
   "source": [
    "### If you would like to subsample the model using a real glider track, run the following cells.\n",
    "\n",
    "Our example glider track original came from [this repo](https://github.com/earthcube2021/ec21_balwada_etal). It wasn't inside one of the regions covered by LLC4320. Here, we load the trajectory and transpose it such that it fits within the Southern Ocean region."
   ]
  },
  {
   "cell_type": "code",
   "execution_count": 35,
   "id": "0a691b87-fc2b-4894-a2d2-5dcf02ff2fdf",
   "metadata": {},
   "outputs": [
    {
     "name": "stdout",
     "output_type": "stream",
     "text": [
      "Original glider boundaries:\n",
      "North: -50.363265\n",
      "South: -53.458083333333335\n",
      "East: 38.99485\n",
      "West: 30.026965\n",
      "\n",
      "Model boundaries:\n",
      "North: -53.00566864013672\n",
      "South: -56.989952087402344\n",
      "East: 154.28125\n",
      "West: 150.3020782470703\n",
      "\n",
      "Transposed glider boundaries:\n",
      "North: -53.00566864013672\n",
      "South: -56.989952087402344\n",
      "East: 154.28125\n",
      "West: 150.3020782470703\n",
      "\n"
     ]
    }
   ],
   "source": [
    "## Load and transpose glider data\n",
    "\n",
    "# Load data\n",
    "ds_CTD_659 = xr.load_dataset('CTD_659.nc')\n",
    "\n",
    "# Print glider boundaries\n",
    "s = 'Original glider boundaries:\\nNorth: {n}\\nSouth: {s}\\nEast: {e}\\nWest: {w}\\n'.format(\n",
    "    n=ds_CTD_659.latitude.data.max(),\n",
    "    s=ds_CTD_659.latitude.data.min(),\n",
    "    e=ds_CTD_659.longitude.data.max(),\n",
    "    w=ds_CTD_659.longitude.data.min()\n",
    ")\n",
    "print(s)\n",
    "\n",
    "# Get boundaries of model region\n",
    "model_boundary_n = ds.YC.max()\n",
    "model_boundary_s = ds.YC.min()\n",
    "model_boundary_w = ds.XC.min()\n",
    "model_boundary_e = ds.XC.max()\n",
    "\n",
    "# Print model boundaries\n",
    "s = 'Model boundaries:\\nNorth: {n}\\nSouth: {s}\\nEast: {e}\\nWest: {w}\\n'.format(\n",
    "    n=model_boundary_n.data,\n",
    "    s=model_boundary_s.data,\n",
    "    e=model_boundary_e.data,\n",
    "    w=model_boundary_w.data\n",
    ")\n",
    "print(s)\n",
    "\n",
    "# Transpose latitude\n",
    "shifted_lat = (ds_CTD_659.latitude - ds_CTD_659.latitude.min()\n",
    "              )/(ds_CTD_659.latitude.max() - ds_CTD_659.latitude.min()\n",
    "                )*(model_boundary_n-model_boundary_s)+ model_boundary_s\n",
    "\n",
    "\n",
    "# Transpose longitude\n",
    "shifted_lon = (ds_CTD_659.longitude - ds_CTD_659.longitude.min()\n",
    "              )/(ds_CTD_659.longitude.max() - ds_CTD_659.longitude.min()\n",
    "                )*(model_boundary_e-model_boundary_w)+ model_boundary_w\n",
    "\n",
    "# Print transposed glider boundaries\n",
    "s = 'Transposed glider boundaries:\\nNorth: {n}\\nSouth: {s}\\nEast: {e}\\nWest: {w}\\n'.format(\n",
    "    n=shifted_lat.max().data,\n",
    "    s=shifted_lat.min().data,\n",
    "    e=shifted_lon.max().data,\n",
    "    w=shifted_lon.min().data\n",
    ")\n",
    "print(s)"
   ]
  },
  {
   "cell_type": "markdown",
   "id": "402751d1-7e32-4d96-a7ce-42557fbd4055",
   "metadata": {},
   "source": [
    "LLC4320 data does not have lat, lon as coordinates; instead the coordinates are simply index numbers. This means that the lon-lat-depth passed for the trajectory will have to be converted to the corresponding index numbers."
   ]
  },
  {
   "cell_type": "code",
   "execution_count": 36,
   "id": "6f99eb35-6b76-4658-a7de-81deba2960d5",
   "metadata": {},
   "outputs": [],
   "source": [
    "## Convert lat, lon to index\n",
    "\n",
    "X = ds.XC\n",
    "Y = ds.YC\n",
    "i = ds.i\n",
    "j = ds.j\n",
    "z = ds.Z\n",
    "k = ds.k\n",
    "\n",
    "f_x = interpolate.interp1d(X[0,:].values, i)\n",
    "f_y = interpolate.interp1d(Y[:,0].values, j)\n",
    "f_z = interpolate.interp1d(z, k, bounds_error=False)"
   ]
  },
  {
   "cell_type": "code",
   "execution_count": 39,
   "id": "4d6b7794-11e6-4097-99d0-6161dc2e0442",
   "metadata": {},
   "outputs": [
    {
     "ename": "UFuncTypeError",
     "evalue": "ufunc 'multiply' cannot use operands with types dtype('<M8[ns]') and dtype('float64')",
     "output_type": "error",
     "traceback": [
      "\u001b[0;31m---------------------------------------------------------------------------\u001b[0m",
      "\u001b[0;31mUFuncTypeError\u001b[0m                            Traceback (most recent call last)",
      "\u001b[0;32m/var/folders/71/y_3lh37x729_dxj05y_lqr54000bf0/T/ipykernel_2751/3905269738.py\u001b[0m in \u001b[0;36m<module>\u001b[0;34m\u001b[0m\n\u001b[1;32m     11\u001b[0m         \u001b[0mj\u001b[0m \u001b[0;34m=\u001b[0m \u001b[0mxr\u001b[0m\u001b[0;34m.\u001b[0m\u001b[0mDataArray\u001b[0m\u001b[0;34m(\u001b[0m\u001b[0mf_y\u001b[0m\u001b[0;34m(\u001b[0m\u001b[0mshifted_lat\u001b[0m\u001b[0;34m.\u001b[0m\u001b[0mwhere\u001b[0m\u001b[0;34m(\u001b[0m\u001b[0;34m~\u001b[0m\u001b[0mnp\u001b[0m\u001b[0;34m.\u001b[0m\u001b[0misnan\u001b[0m\u001b[0;34m(\u001b[0m\u001b[0mds_CTD_659\u001b[0m\u001b[0;34m.\u001b[0m\u001b[0mpressure\u001b[0m\u001b[0;34m)\u001b[0m\u001b[0;34m,\u001b[0m \u001b[0mdrop\u001b[0m\u001b[0;34m=\u001b[0m\u001b[0;32mTrue\u001b[0m\u001b[0;34m)\u001b[0m\u001b[0;34m)\u001b[0m\u001b[0;34m,\u001b[0m \u001b[0mdims\u001b[0m\u001b[0;34m=\u001b[0m\u001b[0;34m'points'\u001b[0m\u001b[0;34m)\u001b[0m\u001b[0;34m,\u001b[0m\u001b[0;34m\u001b[0m\u001b[0;34m\u001b[0m\u001b[0m\n\u001b[1;32m     12\u001b[0m         \u001b[0mk\u001b[0m \u001b[0;34m=\u001b[0m \u001b[0mxr\u001b[0m\u001b[0;34m.\u001b[0m\u001b[0mDataArray\u001b[0m\u001b[0;34m(\u001b[0m\u001b[0mf_z\u001b[0m\u001b[0;34m(\u001b[0m\u001b[0mdepth\u001b[0m\u001b[0;34m)\u001b[0m\u001b[0;34m,\u001b[0m \u001b[0mdims\u001b[0m\u001b[0;34m=\u001b[0m\u001b[0;34m'points'\u001b[0m\u001b[0;34m)\u001b[0m\u001b[0;34m,\u001b[0m\u001b[0;34m\u001b[0m\u001b[0;34m\u001b[0m\u001b[0m\n\u001b[0;32m---> 13\u001b[0;31m         \u001b[0mtime\u001b[0m \u001b[0;34m=\u001b[0m \u001b[0mxr\u001b[0m\u001b[0;34m.\u001b[0m\u001b[0mDataArray\u001b[0m\u001b[0;34m(\u001b[0m\u001b[0mnp\u001b[0m\u001b[0;34m.\u001b[0m\u001b[0mlinspace\u001b[0m\u001b[0;34m(\u001b[0m\u001b[0mds\u001b[0m\u001b[0;34m.\u001b[0m\u001b[0mtime\u001b[0m\u001b[0;34m.\u001b[0m\u001b[0mdata\u001b[0m\u001b[0;34m[\u001b[0m\u001b[0;36m0\u001b[0m\u001b[0;34m]\u001b[0m\u001b[0;34m,\u001b[0m \u001b[0mds\u001b[0m\u001b[0;34m.\u001b[0m\u001b[0mtime\u001b[0m\u001b[0;34m.\u001b[0m\u001b[0mdata\u001b[0m\u001b[0;34m[\u001b[0m\u001b[0;36m1\u001b[0m\u001b[0;34m]\u001b[0m\u001b[0;34m,\u001b[0m \u001b[0mnum\u001b[0m\u001b[0;34m=\u001b[0m\u001b[0mn\u001b[0m\u001b[0;34m)\u001b[0m\u001b[0;34m,\u001b[0m\u001b[0mdims\u001b[0m\u001b[0;34m=\u001b[0m\u001b[0;34m'points'\u001b[0m\u001b[0;34m)\u001b[0m\u001b[0;34m,\u001b[0m\u001b[0;34m\u001b[0m\u001b[0;34m\u001b[0m\u001b[0m\n\u001b[0m\u001b[1;32m     14\u001b[0m     )\n\u001b[1;32m     15\u001b[0m )\n",
      "\u001b[0;32m<__array_function__ internals>\u001b[0m in \u001b[0;36mlinspace\u001b[0;34m(*args, **kwargs)\u001b[0m\n",
      "\u001b[0;32m~/miniconda3/envs/OHW/lib/python3.9/site-packages/numpy/core/function_base.py\u001b[0m in \u001b[0;36mlinspace\u001b[0;34m(start, stop, num, endpoint, retstep, dtype, axis)\u001b[0m\n\u001b[1;32m    125\u001b[0m     \u001b[0;31m# Convert float/complex array scalars to float, gh-3504\u001b[0m\u001b[0;34m\u001b[0m\u001b[0;34m\u001b[0m\u001b[0;34m\u001b[0m\u001b[0m\n\u001b[1;32m    126\u001b[0m     \u001b[0;31m# and make sure one can use variables that have an __array_interface__, gh-6634\u001b[0m\u001b[0;34m\u001b[0m\u001b[0;34m\u001b[0m\u001b[0;34m\u001b[0m\u001b[0m\n\u001b[0;32m--> 127\u001b[0;31m     \u001b[0mstart\u001b[0m \u001b[0;34m=\u001b[0m \u001b[0masanyarray\u001b[0m\u001b[0;34m(\u001b[0m\u001b[0mstart\u001b[0m\u001b[0;34m)\u001b[0m \u001b[0;34m*\u001b[0m \u001b[0;36m1.0\u001b[0m\u001b[0;34m\u001b[0m\u001b[0;34m\u001b[0m\u001b[0m\n\u001b[0m\u001b[1;32m    128\u001b[0m     \u001b[0mstop\u001b[0m  \u001b[0;34m=\u001b[0m \u001b[0masanyarray\u001b[0m\u001b[0;34m(\u001b[0m\u001b[0mstop\u001b[0m\u001b[0;34m)\u001b[0m  \u001b[0;34m*\u001b[0m \u001b[0;36m1.0\u001b[0m\u001b[0;34m\u001b[0m\u001b[0;34m\u001b[0m\u001b[0m\n\u001b[1;32m    129\u001b[0m \u001b[0;34m\u001b[0m\u001b[0m\n",
      "\u001b[0;31mUFuncTypeError\u001b[0m: ufunc 'multiply' cannot use operands with types dtype('<M8[ns]') and dtype('float64')"
     ]
    }
   ],
   "source": [
    "## Assemble trajectory dataset\n",
    "\n",
    "# Remove NaN values from pressure (depth) data\n",
    "depth = -ds_CTD_659.pressure.where(~np.isnan(ds_CTD_659.pressure), drop=True)\n",
    "n = len(depth)\n",
    "\n",
    "# Assemble dataset\n",
    "survey_track = xr.Dataset(\n",
    "    dict(\n",
    "        i = xr.DataArray(f_x(shifted_lon.where(~np.isnan(ds_CTD_659.pressure), drop=True)), dims='points'),\n",
    "        j = xr.DataArray(f_y(shifted_lat.where(~np.isnan(ds_CTD_659.pressure), drop=True)), dims='points'),\n",
    "        k = xr.DataArray(f_z(depth), dims='points'),\n",
    "        time = xr.DataArray(np.linspace(ds.time[0], ds.time[1], num=n),dims='points'),\n",
    "    )\n",
    ")"
   ]
  },
  {
   "cell_type": "code",
   "execution_count": 40,
   "id": "823e05a9-e5dc-4996-a4ee-23215945f1f4",
   "metadata": {},
   "outputs": [
    {
     "data": {
      "text/plain": [
       "numpy.datetime64('2011-12-21T00:00:00.000000000')"
      ]
     },
     "execution_count": 40,
     "metadata": {},
     "output_type": "execute_result"
    }
   ],
   "source": [
    "ds.time.data[0]"
   ]
  },
  {
   "cell_type": "code",
   "execution_count": null,
   "id": "dcfc9091-3625-4e18-a04b-d60d44ae26f4",
   "metadata": {},
   "outputs": [],
   "source": []
  }
 ],
 "metadata": {
  "kernelspec": {
   "display_name": "Python [conda env:OHW] *",
   "language": "python",
   "name": "conda-env-OHW-py"
  },
  "language_info": {
   "codemirror_mode": {
    "name": "ipython",
    "version": 3
   },
   "file_extension": ".py",
   "mimetype": "text/x-python",
   "name": "python",
   "nbconvert_exporter": "python",
   "pygments_lexer": "ipython3",
   "version": "3.9.6"
  }
 },
 "nbformat": 4,
 "nbformat_minor": 5
}
