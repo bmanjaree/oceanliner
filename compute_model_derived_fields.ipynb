{
 "cells": [
  {
   "cell_type": "markdown",
   "id": "dd58d477",
   "metadata": {},
   "source": [
    "## compute model derived fields (vorticity, steric height)\n",
    "\n",
    "This notebook can be used to compute steric height and vorticity for regional llc4320 output.\n",
    "\n",
    "Output is stored in new netCDF files in a \"derived\" directory.\n",
    "\n",
    "Requires that an Argo climatology has been downloaded and stored locally.\n",
    "\n",
    "NOTE: Suggested changes:\n",
    "- computing strain, MLD, or other parameters\n",
    "- making code work with other simulation data\n",
    "- turned this notebook into a script that is called by the parent notebook\n",
    "- loading the reference T/S data from ERDDAP (or another gridded Argo database)\n",
    "\n",
    "Initial commit Aug 9, 2021 by kdrushka"
   ]
  },
  {
   "cell_type": "code",
   "execution_count": 1,
   "id": "4f1092ee",
   "metadata": {},
   "outputs": [],
   "source": [
    "%matplotlib inline\n",
    "import os\n",
    "# import sys\n",
    "# import fsspec\n",
    "import numpy as np\n",
    "import glob\n",
    "# import re\n",
    "import gsw as sw\n",
    "import xarray as xr\n",
    "import dask.array as dsa\n",
    "import xgcm.grid\n",
    "import netCDF4 as nc4"
   ]
  },
  {
   "cell_type": "code",
   "execution_count": 2,
   "id": "f09cba1a",
   "metadata": {},
   "outputs": [],
   "source": [
    "# --------------------------------------------------------------------\n",
    "# USER INPUTS:\n",
    "# specify region from this list:\n",
    "# WesternMed  ROAM_MIZ  NewCaledonia  NWPacific  BassStrait  RockallTrough  ACC_SMST\n",
    "# MarmaraSea  LabradorSea  CapeBasin\n",
    "RegionName = 'ACC_SMST' \n",
    "\n",
    "\n",
    "# directory where model data is stored:\n",
    "llc4320dir = '/data1/adac/mitgcm/netcdf/'\n",
    "regiondir = llc4320dir + RegionName + '/'\n",
    "# directory to save derived data to - create if doesn't exist\n",
    "derivedir = regiondir + 'derived/'\n",
    "if not(os.path.isdir(derivedir)):\n",
    "    os.mkdir(derivedir)"
   ]
  },
  {
   "cell_type": "code",
   "execution_count": 3,
   "id": "cd4868dd",
   "metadata": {},
   "outputs": [
    {
     "name": "stdout",
     "output_type": "stream",
     "text": [
      "/data1/adac/mitgcm/netcdf/ACC_SMST/LLC4320_pre-SWOT_ACC_SMST_20111221.nc\n",
      "center of domain:  -55.023106 , 152.29167\n"
     ]
    }
   ],
   "source": [
    "# load a single file to get coordinates\n",
    "fg = sorted(glob.glob(regiondir + '**nc')) # all files\n",
    "i=0\n",
    "thisf=fg[i]\n",
    "print(thisf)\n",
    "ds = xr.open_dataset(thisf)\n",
    "    \n",
    "# mean lat/lon of domain\n",
    "xav = ds.XC.isel(j=0).mean(dim='i')\n",
    "yav = ds.YC.isel(i=0).mean(dim='j')\n",
    "print('center of domain: ', yav.values, ',' , xav.values)"
   ]
  },
  {
   "cell_type": "code",
   "execution_count": 4,
   "id": "4af23d44",
   "metadata": {},
   "outputs": [],
   "source": [
    "# for vorticity calculation, build the xgcm grid:\n",
    "# see https://xgcm.readthedocs.io/en/latest/xgcm-examples/02_mitgcm.html\n",
    "grid = xgcm.Grid(ds, coords={'X':{'center': 'i', 'left': 'i_g'}, \n",
    "                 'Y':{'center': 'j', 'left': 'j_g'},\n",
    "                 'T':{'center': 'time'},\n",
    "                 'Z':{'center': 'k'}})"
   ]
  },
  {
   "cell_type": "code",
   "execution_count": 5,
   "id": "6fd973ce",
   "metadata": {},
   "outputs": [
    {
     "name": "stdout",
     "output_type": "stream",
     "text": [
      "\n"
     ]
    }
   ],
   "source": [
    "# load reference file of argo data\n",
    "# NOTE: could update to pull from ERDDAP or similar\n",
    "argoclimfile = '/data1/argo/argo_CLIM_3x3.nc'\n",
    "argods = xr.open_dataset(argoclimfile,decode_times=False) \n",
    "# reference profiles: annual average Argo T/S using nearest neighbor\n",
    "Tref = argods[\"TEMP\"].sel(LATITUDE=yav,LONGITUDE=xav, method='nearest').mean(dim='TIME')\n",
    "Sref = argods[\"SALT\"].sel(LATITUDE=yav,LONGITUDE=xav, method='nearest').mean(dim='TIME')\n",
    "# SA and CT from gsw:\n",
    "# see example from https://discourse.pangeo.io/t/wrapped-for-dask-teos-10-gibbs-seawater-gsw-oceanographic-toolbox/466\n",
    "Pref = xr.apply_ufunc(sw.p_from_z, -argods.LEVEL, yav)\n",
    "Pref.compute()\n",
    "SAref = xr.apply_ufunc(sw.SA_from_SP, Sref, Pref, xav, yav,\n",
    "                       dask='parallelized', output_dtypes=[Sref.dtype])\n",
    "SAref.compute()\n",
    "CTref = xr.apply_ufunc(sw.CT_from_pt, Sref, Tref, # Theta is potential temperature\n",
    "                       dask='parallelized', output_dtypes=[Sref.dtype])\n",
    "CTref.compute()\n",
    "Dref = xr.apply_ufunc(sw.density.rho, SAref, CTref, Pref,\n",
    "                    dask='parallelized', output_dtypes=[Sref.dtype])\n",
    "Dref.compute()\n",
    "print()"
   ]
  },
  {
   "cell_type": "code",
   "execution_count": 24,
   "id": "64da70dc",
   "metadata": {},
   "outputs": [
    {
     "name": "stdin",
     "output_type": "stream",
     "text": [
      "\n",
      "/data1/adac/mitgcm/netcdf/ACC_SMST/derived/LLC4320_pre-SWOT_ACC_SMST_derived-fields_20111221.nc already exists. Overwrite? (this decision will apply to all files) [y/N] N\n"
     ]
    }
   ],
   "source": [
    "# loop through files, then compute steric height, vorticity, etc. on the i/j grid\n",
    "# fis = range(1)\n",
    "fis = range(len(fg))\n",
    "yn = 'y'\n",
    "for fi in fis:\n",
    "    # --- select data ---\n",
    "    thisf=fg[fi]\n",
    "    \n",
    "    # check if output file already exists\n",
    "    fnout = thisf.replace(RegionName + '_' , RegionName + '_derived-fields_')\n",
    "    fnout = fnout.replace(RegionName + '/' , RegionName + '/derived/')\n",
    "    \n",
    "    if (os.path.isfile(fnout) & (yn.lower() == 'y')):\n",
    "        yn = input(f'\\n{fnout} already exists. Overwrite? (this decision will apply to all files) [y/N]')\n",
    "    if (yn.lower() == 'n'):\n",
    "        # do nothing\n",
    "        1\n",
    "    elif (yn.lower() == 'y'):   \n",
    "        print(thisf , '(' , fi+1, 'of', len(fis), ')')  \n",
    "        ds = xr.open_dataset(thisf)\n",
    "\n",
    "        # create datasets for variables of interest:\n",
    "        ss = ds.Salt\n",
    "        tt = ds.Theta\n",
    "        pp = xr.DataArray(sw.p_from_z(ds.Z,ds.YC))\n",
    "\n",
    "        # --- compute steric height in steps ---\n",
    "        # 1. compute absolute salinity and conservative temperature\n",
    "        sa = xr.apply_ufunc(sw.SA_from_SP, ss, pp, xav, yav, dask='parallelized', output_dtypes=[ss.dtype])\n",
    "        sa.compute()\n",
    "        ct = xr.apply_ufunc(sw.CT_from_pt, sa, tt, dask='parallelized', output_dtypes=[ss.dtype])\n",
    "        ct.compute()\n",
    "        dd = xr.apply_ufunc(sw.density.rho, sa, ct, pp, dask='parallelized', output_dtypes=[ss.dtype])\n",
    "        dd.compute()\n",
    "        # 2. compute specific volume anomaly: gsw.density.specvol_anom_standard(SA, CT, p)\n",
    "        sva = xr.apply_ufunc(sw.density.specvol_anom_standard, sa, ct, pp, dask='parallelized', output_dtypes=[ss.dtype])\n",
    "        sva.compute()\n",
    "        # 3. compute steric height = integral(0:z1) of Dref(z)*sva(z)*dz(z)\n",
    "        # - first, interpolate Dref to the model pressure levels\n",
    "        Drefi = Dref.interp(LEVEL=-ds.Z)\n",
    "        dz = -ds.Z_bnds.diff(dim='nb').drop_vars('nb').squeeze() # distance between interfaces\n",
    "\n",
    "        # steric height computation (summation/integral)\n",
    "        # - increase the size of Drefi and dz to match the size of sva\n",
    "        Db = Drefi.broadcast_like(sva)\n",
    "        dzb = dz.broadcast_like(sva)\n",
    "        dum = Db * sva * dzb\n",
    "        sh = dum.cumsum(dim='k')\n",
    "\n",
    "        # --- compute vorticity using xgcm and interpolate to X, Y\n",
    "        # see https://xgcm.readthedocs.io/en/latest/xgcm-examples/02_mitgcm.html\n",
    "        vorticity = (grid.diff(ds.V*ds.DXG, 'X') - grid.diff(ds.U*ds.DYG, 'Y'))/ds.RAZ\n",
    "        vorticity = grid.interp(grid.interp(vorticity, 'X', boundary='extend'), 'Y', boundary='extend')\n",
    "\n",
    "        # --- save derived fields in a new file\n",
    "        # - convert sh and zeta to datasets\n",
    "        dout = vorticity.to_dataset(name='vorticity')\n",
    "        sh_ds = sh.to_dataset(name='steric_height')\n",
    "        dout = dout.merge(sh_ds)\n",
    "        # add/rename the Argo reference profile variables\n",
    "        tref = Tref.to_dataset(name='Tref')\n",
    "        tref = tref.merge(Sref).rename({'SALT': 'Sref'}).\\\n",
    "            rename({'LEVEL':'zref','LATITUDE':'yav','LONGITUDE':'xav'}).\\\n",
    "            drop_vars({'i','j'})\n",
    "        # - add ref profiles to dout and drop uneeded vars/coords\n",
    "        dout = dout.merge(tref).drop_vars({'LONGITUDE','LATITUDE','LEVEL','i','j'})\n",
    "\n",
    "        # - save netcdf file with derived fields\n",
    "        netcdf_fill_value = nc4.default_fillvals['f4']\n",
    "        dv_encoding = {}\n",
    "        for dv in dout.data_vars:\n",
    "            dv_encoding[dv]={'zlib':True,  # turns compression on\\\n",
    "                        'complevel':9,     # 1 = fastest, lowest compression; 9=slowest, highest compression \\\n",
    "                        'shuffle':True,    # shuffle filter can significantly improve compression ratios, and is on by default \\\n",
    "                        'dtype':'float32',\\\n",
    "                        '_FillValue':netcdf_fill_value}\n",
    "        # save to a new file\n",
    "        print(' ... saving to ', fnout)\n",
    "        dout.to_netcdf(fnout,format='netcdf4',encoding=dv_encoding)\n"
   ]
  }
 ],
 "metadata": {
  "kernelspec": {
   "display_name": "Python 3",
   "language": "python",
   "name": "python3"
  },
  "language_info": {
   "codemirror_mode": {
    "name": "ipython",
    "version": 3
   },
   "file_extension": ".py",
   "mimetype": "text/x-python",
   "name": "python",
   "nbconvert_exporter": "python",
   "pygments_lexer": "ipython3",
   "version": "3.9.2"
  }
 },
 "nbformat": 4,
 "nbformat_minor": 5
}
