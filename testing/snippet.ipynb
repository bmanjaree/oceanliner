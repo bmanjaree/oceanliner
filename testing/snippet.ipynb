{
 "cells": [
  {
   "cell_type": "code",
   "execution_count": null,
   "id": "59f221e9-8afb-4f1a-bae1-0c38b5247c5f",
   "metadata": {},
   "outputs": [],
   "source": [
    "# for mooring, can we just interpolate the gridded fields directly rather than interpolating to points and then re-gridding?\n",
    "# YES but it's slower (!?!)\n",
    "X = ds.XC.isel(time=0) \n",
    "Y = ds.YC.isel(time=0)\n",
    "i = ds.i\n",
    "j = ds.j\n",
    "z = ds.Z.isel(time=0)\n",
    "k = ds.k\n",
    "f_x = interpolate.interp1d(X[0,:].values, i)\n",
    "f_y = interpolate.interp1d(Y[:,0].values, j)\n",
    "f_z = interpolate.interp1d(z, k, bounds_error=False)\n",
    "\n",
    "#\n",
    "model_xav = ds.XC.isel(time=0, j=0).mean(dim='i').values\n",
    "model_yav = ds.YC.isel(time=0, i=0).mean(dim='j').values\n",
    "xmooring = model_xav # default lat/lon is the center of the domain\n",
    "ymooring = model_yav\n",
    "zmooring_TS = [-1, -10, -50, -100] # depth of T/S instruments\n",
    "zmooring_UV = [-1, -10, -50, -100] # depth of U/V instruments\n",
    "\n",
    "#\n",
    "# ds.Theta.sel(k=1)\n",
    "# ds.Theta.sel(k=1)\n",
    "ki = f_z(zmooring_TS[0])\n",
    "ii = f_x(xmooring)\n",
    "ji = f_y(ymooring)\n",
    "xo = ds.interp(i=ii, j=ji, k=ki)\n",
    "xo.Theta.plot.line(x='time')\n",
    "sdata.Theta.where(sdata.dep == sdata.dep.max(), drop=True).plot.line(x='time')\n",
    "sgridded.Theta.isel(depth=0).plot()"
   ]
  },
  {
   "cell_type": "code",
   "execution_count": null,
   "id": "d19b637c-b7c1-4432-afd6-30668d68c7ad",
   "metadata": {},
   "outputs": [],
   "source": []
  },
  {
   "cell_type": "code",
   "execution_count": null,
   "id": "00c5670d-ee93-45e8-8474-70b71ebed5db",
   "metadata": {},
   "outputs": [],
   "source": [
    "# test if the above regridding is correct by plotting the data at one level as a time series\n",
    "# YES.\n",
    "\n",
    "# shallowest (max because negative)\n",
    "zpl = np.max(sdata['dep'].data)\n",
    "print(zpl)\n",
    "\n",
    "# select data at one depth:\n",
    "this_var_onedep = sdata[vbl].where(sdata.dep == zpl, drop=True)\n",
    "\n",
    "# fixed data at the same depth\n",
    "this_var_fixed_onedep = this_var_fix[0,:]\n",
    "\n",
    "\n",
    "# # deepest\n",
    "# zpl = np.min(sdata['dep'].data)\n",
    "# this_var_onedep = sdata[vbl].where(sdata.dep == zpl, drop=True)\n",
    "# this_var_reshaped_onedep = this_var_reshape[494,:]\n",
    "# print(zpl)\n",
    "\n",
    "\n",
    "tpl = np.linspace(0,np.max(sdata['time']),len(this_var_reshaped_onedep))\n",
    "\n",
    "\n",
    "plt.plot(sdata['time'].where(sdata.dep == zpl, drop=True).data, this_var_onedep.data,'.')\n",
    "plt.plot(tpl,this_var_fixed_onedep,'r-.')\n",
    "\n",
    "plt.show()"
   ]
  },
  {
   "cell_type": "code",
   "execution_count": 16,
   "id": "4b5ec37c-545b-4790-878c-002cace50e3b",
   "metadata": {},
   "outputs": [
    {
     "name": "stdout",
     "output_type": "stream",
     "text": [
      "OSSE_ACC_SMST_sim_uctd_2012-01-01_to_2012-02-01\n"
     ]
    }
   ],
   "source": [
    "# --------------------------------------------------------------------\n",
    "# USER INPUTS:\n",
    "# --------------------------------------------------------------------\n",
    "import datetime\n",
    "# specify region from this list:\n",
    "# WesternMed  ROAM_MIZ  NewCaledonia  NWPacific  BassStrait  RockallTrough  ACC_SMST\n",
    "# MarmaraSea  LabradorSea  CapeBasin\n",
    "RegionName = 'ACC_SMST' \n",
    "\n",
    "# specify date range as start date & number of days.\n",
    "start_date = datetime.date(2012,1,1)\n",
    "ndays = 31\n",
    "# ndays = 2\n",
    "# ndays = 10\n",
    "\n",
    "# directory where data files are stored\n",
    "# datadir = './data/' # default is ./data\n",
    "datadir = '/data1/adac/mitgcm/netcdf/' + RegionName + '/'\n",
    "outputdir = '/data1/adac/osse_output/' + RegionName + '/'\n",
    "argodir = '/data1/argo/gridded/' # store argo climatology here\n",
    "\n",
    "# optional details for sampling (if not specified, reasonable defaults will be used)\n",
    "sampling_details = {\n",
    "    'SAMPLING_STRATEGY' : 'sim_uctd', # options: sim_glider, sim_uctd or trajectory_file.add: mooring, ASV\n",
    "#     'SAMPLING_STRATEGY' : 'sim_mooring', # options: sim_glider, sim_uctd or trajectory_file.add: mooring, ASV\n",
    "    'PATTERN' : 'lawnmower', # back-forth or lawnmower \n",
    "    'zrange' : [-1, -1000],  # depth range of T/S profiles (down is negative). * add U/V range? *\n",
    "    #'hspeed' : 0.25,  # platform horizontal speed in m/s\n",
    "    #'vspeed' : 0.1, # platform vertical (profile) speed in m/s \n",
    "    #'trajectory_file' : None, # if SAMPLING_STRATEGY = 'trajectory_file', specify trajectory file\n",
    "    #'AT_END' : 'repeat' # behaviour at and of trajectory: 'reverse', 'repeat' or 'terminate'. (could also 'restart'?)\n",
    "}\n",
    "\n",
    "\n",
    "\n",
    "\n",
    "sampling_details['SAMPLING_STRATEGY']\n",
    "end_date = start_date + datetime.timedelta(days=ndays)\n",
    " \n",
    "filename_out = (f'OSSE_{RegionName}_{sampling_details[\"SAMPLING_STRATEGY\"]}_{start_date}_to_{end_date}')\n",
    "# filename_out = (f'OSSE_{RegionName}_{sampling_details[\"SAMPLING_STRATEGY\"]}')\n",
    "\n",
    "print(filename_out)"
   ]
  }
 ],
 "metadata": {
  "kernelspec": {
   "display_name": "Python 3",
   "language": "python",
   "name": "python3"
  },
  "language_info": {
   "codemirror_mode": {
    "name": "ipython",
    "version": 3
   },
   "file_extension": ".py",
   "mimetype": "text/x-python",
   "name": "python",
   "nbconvert_exporter": "python",
   "pygments_lexer": "ipython3",
   "version": "3.9.2"
  }
 },
 "nbformat": 4,
 "nbformat_minor": 5
}
