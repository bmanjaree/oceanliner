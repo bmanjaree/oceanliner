{
 "cells": [
  {
   "cell_type": "code",
   "execution_count": null,
   "id": "59f221e9-8afb-4f1a-bae1-0c38b5247c5f",
   "metadata": {},
   "outputs": [],
   "source": [
    "# for mooring, can we just interpolate the gridded fields directly rather than interpolating to points and then re-gridding?\n",
    "# YES but it's slower (!?!)\n",
    "X = ds.XC.isel(time=0) \n",
    "Y = ds.YC.isel(time=0)\n",
    "i = ds.i\n",
    "j = ds.j\n",
    "z = ds.Z.isel(time=0)\n",
    "k = ds.k\n",
    "f_x = interpolate.interp1d(X[0,:].values, i)\n",
    "f_y = interpolate.interp1d(Y[:,0].values, j)\n",
    "f_z = interpolate.interp1d(z, k, bounds_error=False)\n",
    "\n",
    "#\n",
    "model_xav = ds.XC.isel(time=0, j=0).mean(dim='i').values\n",
    "model_yav = ds.YC.isel(time=0, i=0).mean(dim='j').values\n",
    "xmooring = model_xav # default lat/lon is the center of the domain\n",
    "ymooring = model_yav\n",
    "zmooring_TS = [-1, -10, -50, -100] # depth of T/S instruments\n",
    "zmooring_UV = [-1, -10, -50, -100] # depth of U/V instruments\n",
    "\n",
    "#\n",
    "# ds.Theta.sel(k=1)\n",
    "# ds.Theta.sel(k=1)\n",
    "ki = f_z(zmooring_TS[0])\n",
    "ii = f_x(xmooring)\n",
    "ji = f_y(ymooring)\n",
    "xo = ds.interp(i=ii, j=ji, k=ki)\n",
    "xo.Theta.plot.line(x='time')\n",
    "sdata.Theta.where(sdata.dep == sdata.dep.max(), drop=True).plot.line(x='time')\n",
    "sgridded.Theta.isel(depth=0).plot()"
   ]
  },
  {
   "cell_type": "code",
   "execution_count": null,
   "id": "00c5670d-ee93-45e8-8474-70b71ebed5db",
   "metadata": {},
   "outputs": [],
   "source": [
    "# test if the above regridding is correct by plotting the data at one level as a time series\n",
    "# YES.\n",
    "\n",
    "# shallowest (max because negative)\n",
    "zpl = np.max(sdata['dep'].data)\n",
    "print(zpl)\n",
    "\n",
    "# select data at one depth:\n",
    "this_var_onedep = sdata[vbl].where(sdata.dep == zpl, drop=True)\n",
    "\n",
    "# fixed data at the same depth\n",
    "this_var_fixed_onedep = this_var_fix[0,:]\n",
    "\n",
    "\n",
    "# # deepest\n",
    "# zpl = np.min(sdata['dep'].data)\n",
    "# this_var_onedep = sdata[vbl].where(sdata.dep == zpl, drop=True)\n",
    "# this_var_reshaped_onedep = this_var_reshape[494,:]\n",
    "# print(zpl)\n",
    "\n",
    "\n",
    "tpl = np.linspace(0,np.max(sdata['time']),len(this_var_reshaped_onedep))\n",
    "\n",
    "\n",
    "plt.plot(sdata['time'].where(sdata.dep == zpl, drop=True).data, this_var_onedep.data,'.')\n",
    "plt.plot(tpl,this_var_fixed_onedep,'r-.')\n",
    "\n",
    "plt.show()"
   ]
  }
 ],
 "metadata": {
  "kernelspec": {
   "display_name": "Python 3",
   "language": "python",
   "name": "python3"
  },
  "language_info": {
   "codemirror_mode": {
    "name": "ipython",
    "version": 3
   },
   "file_extension": ".py",
   "mimetype": "text/x-python",
   "name": "python",
   "nbconvert_exporter": "python",
   "pygments_lexer": "ipython3",
   "version": "3.9.2"
  }
 },
 "nbformat": 4,
 "nbformat_minor": 5
}
