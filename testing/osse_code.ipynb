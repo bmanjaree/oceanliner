{
 "cells": [
  {
   "cell_type": "markdown",
   "id": "d3e15606-e20b-45ed-872f-1dac2b874aa6",
   "metadata": {},
   "source": [
    "# code in progress. see demo.ipynb for working version "
   ]
  },
  {
   "cell_type": "code",
   "execution_count": 2,
   "id": "02b986eb-9b7a-4472-8040-ddbfc81e7290",
   "metadata": {},
   "outputs": [],
   "source": [
    "## Imports\n",
    "\n",
    "# Native packages\n",
    "from math import radians, degrees, sin, cos, asin, acos, sqrt\n",
    "import datetime\n",
    "import sys\n",
    "import os\n",
    "\n",
    "\n",
    "# Third-party packages for data manipulation\n",
    "import numpy as np\n",
    "import pandas as pd\n",
    "import xarray as xr\n",
    "\n",
    "# Third-party packages for data interpolation\n",
    "from scipy import interpolate\n",
    "from scipy.interpolate import griddata\n",
    "from xgcm import Grid\n",
    "\n",
    "# Third-party packages for data visualizations\n",
    "import matplotlib.pyplot as plt\n",
    "import matplotlib.cm as cm\n",
    "from mpl_toolkits import mplot3d\n",
    "from mpl_toolkits.mplot3d import axes3d\n",
    "\n",
    "# osse tools package\n",
    "# del sys.modules['osse_tools']  # uncomment if troubleshooting osse_tools\n",
    "from osse_tools import download_llc4320_data, compute_derived_fields, get_survey_track, survey_interp"
   ]
  },
  {
   "cell_type": "code",
   "execution_count": 92,
   "id": "17b87f9b",
   "metadata": {},
   "outputs": [],
   "source": [
    "# --------------------------------------------------------------------\n",
    "# USER INPUTS:\n",
    "# --------------------------------------------------------------------\n",
    "\n",
    "# specify region from this list:\n",
    "# WesternMed  ROAM_MIZ  NewCaledonia  NWPacific  BassStrait  RockallTrough  ACC_SMST\n",
    "# MarmaraSea  LabradorSea  CapeBasin\n",
    "RegionName = 'ACC_SMST' \n",
    "\n",
    "# specify date range as start date & number of days.\n",
    "start_date = datetime.date(2012,1,1)\n",
    "ndays = 31\n",
    "# ndays = 2\n",
    "# ndays = 10\n",
    "\n",
    "# directory where data files are stored\n",
    "# datadir = './data/' # default is ./data\n",
    "datadir = '/data1/adac/mitgcm/netcdf/' + RegionName + '/'\n",
    "outputdir = '/data1/adac/osse_output/' + RegionName + '/'\n",
    "argodir = '/data1/argo/gridded/' # store argo climatology here\n",
    "\n",
    "# optional details for sampling (if not specified, reasonable defaults will be used)\n",
    "sampling_details = {\n",
    "    'SAMPLING_STRATEGY' : 'sim_mooring', # options: sim_glider, sim_uctd or trajectory_file.add: mooring, ASV\n",
    "    'PATTERN' : 'lawnmower', # back-forth or lawnmower \n",
    "    #'zrange' : [-1, -1000],  # depth range of T/S profiles (down is negative). * add U/V range? *\n",
    "    #'hspeed' : 0.25,  # platform horizontal speed in m/s\n",
    "    #'vspeed' : 0.1, # platform vertical (profile) speed in m/s \n",
    "    #'trajectory_file' : None, # if SAMPLING_STRATEGY = 'trajectory_file', specify trajectory file\n",
    "    #'AT_END' : 'repeat' # behaviour at and of trajectory: 'reverse', 'repeat' or 'terminate'. (could also 'restart'?)\n",
    "}\n",
    "\n",
    "# ---- generate name of file to save outputs in ---- TO DO STILL ---\n",
    "# print(np.datetime_data(start_date) + np.timedelta64(ndays, 'D'))\n",
    "# filename_out = [f'osse_{RegionName}_{start_date}_to_{start_date + np.timedelta64(ndays, 'd')}']\n",
    "# print(filename_out)\n",
    "# --------------------------------------------------------------------"
   ]
  },
  {
   "cell_type": "markdown",
   "id": "8586d15a-b385-407e-8bfe-2288fd6523a3",
   "metadata": {},
   "source": [
    "#### Download & load model data and derived fields\n",
    "\n",
    "Based on [LLC4320](https://data.nas.nasa.gov/viz/vizdata/llc4320/index.html), the 1/48-degree global MITgcm simulation produced by the ECCO project. Ten regional cut-outs of the simulation are available on the [PO.DAAC](https://podaac.jpl.nasa.gov/datasetlist?ids=Processing+Levels&values=4+-+Gridded+Model+Output&search=Pre-SWOT+llc4320&view=list&provider=); the 4x4 degree regional domains are small enough to enable fairly easy downloads and processing. The data from the model were retrieved using download_llc4320.ipynb and saved locally."
   ]
  },
  {
   "cell_type": "code",
   "execution_count": null,
   "id": "3c807660-4015-4593-a01f-0887ac81e4ad",
   "metadata": {},
   "outputs": [
    {
     "name": "stdout",
     "output_type": "stream",
     "text": [
      "computing derived fields for /data1/adac/mitgcm/netcdf/ACC_SMST/LLC4320_pre-SWOT_ACC_SMST_20120101.nc\n",
      "\n",
      " ... saving to  /data1/adac/mitgcm/netcdf/ACC_SMST/derived/LLC4320_pre-SWOT_ACC_SMST_derived-fields_20120101.nc\n",
      "computing derived fields for /data1/adac/mitgcm/netcdf/ACC_SMST/LLC4320_pre-SWOT_ACC_SMST_20120102.nc\n",
      " ... saving to  /data1/adac/mitgcm/netcdf/ACC_SMST/derived/LLC4320_pre-SWOT_ACC_SMST_derived-fields_20120102.nc\n",
      "computing derived fields for /data1/adac/mitgcm/netcdf/ACC_SMST/LLC4320_pre-SWOT_ACC_SMST_20120103.nc\n",
      " ... saving to  /data1/adac/mitgcm/netcdf/ACC_SMST/derived/LLC4320_pre-SWOT_ACC_SMST_derived-fields_20120103.nc\n",
      "computing derived fields for /data1/adac/mitgcm/netcdf/ACC_SMST/LLC4320_pre-SWOT_ACC_SMST_20120104.nc\n",
      " ... saving to  /data1/adac/mitgcm/netcdf/ACC_SMST/derived/LLC4320_pre-SWOT_ACC_SMST_derived-fields_20120104.nc\n",
      "computing derived fields for /data1/adac/mitgcm/netcdf/ACC_SMST/LLC4320_pre-SWOT_ACC_SMST_20120105.nc\n",
      " ... saving to  /data1/adac/mitgcm/netcdf/ACC_SMST/derived/LLC4320_pre-SWOT_ACC_SMST_derived-fields_20120105.nc\n",
      "computing derived fields for /data1/adac/mitgcm/netcdf/ACC_SMST/LLC4320_pre-SWOT_ACC_SMST_20120106.nc\n",
      " ... saving to  /data1/adac/mitgcm/netcdf/ACC_SMST/derived/LLC4320_pre-SWOT_ACC_SMST_derived-fields_20120106.nc\n",
      "computing derived fields for /data1/adac/mitgcm/netcdf/ACC_SMST/LLC4320_pre-SWOT_ACC_SMST_20120107.nc\n",
      " ... saving to  /data1/adac/mitgcm/netcdf/ACC_SMST/derived/LLC4320_pre-SWOT_ACC_SMST_derived-fields_20120107.nc\n"
     ]
    }
   ],
   "source": [
    "# download files:\n",
    "# download_llc4320_data(RegionName, datadir, start_date, ndays)\n",
    "\n",
    "\n",
    "# *************** ERROR IN compute_derived_fields - saving files doesn't right\n",
    "#\n",
    "# see dout to troubleshoot\n",
    "# seems to be a problem with the argo file, which has coord/dim/etc. \"time\" that screws everything up by overwriting the \"dout\" time variable with something weird\n",
    "# - since we dno't evern use time, delete from argods\n",
    "\n",
    "del sys.modules['osse_tools']  # uncomment if troubleshooting osse_tools\n",
    "from osse_tools import download_llc4320_data, compute_derived_fields, get_survey_track, survey_interp\n",
    "# derive & save new files with steric height & vorticity\n",
    "compute_derived_fields(RegionName, datadir, start_date, ndays)"
   ]
  },
  {
   "cell_type": "code",
   "execution_count": 61,
   "id": "50818d33-01c3-4194-8c5a-d61cd64b8ba6",
   "metadata": {},
   "outputs": [
    {
     "ename": "FileNotFoundError",
     "evalue": "[Errno 2] No such file or directory: b'/data1/adac/mitgcm/netcdf/ACC_SMST/derived/LLC4320_pre-SWOT_ACC_SMST_derived-fields_20120101.nc'",
     "output_type": "error",
     "traceback": [
      "\u001b[0;31m---------------------------------------------------------------------------\u001b[0m",
      "\u001b[0;31mKeyError\u001b[0m                                  Traceback (most recent call last)",
      "\u001b[0;32m~/miniconda3/envs/py33/lib/python3.9/site-packages/xarray/backends/file_manager.py\u001b[0m in \u001b[0;36m_acquire_with_cache_info\u001b[0;34m(self, needs_lock)\u001b[0m\n\u001b[1;32m    198\u001b[0m             \u001b[0;32mtry\u001b[0m\u001b[0;34m:\u001b[0m\u001b[0;34m\u001b[0m\u001b[0;34m\u001b[0m\u001b[0m\n\u001b[0;32m--> 199\u001b[0;31m                 \u001b[0mfile\u001b[0m \u001b[0;34m=\u001b[0m \u001b[0mself\u001b[0m\u001b[0;34m.\u001b[0m\u001b[0m_cache\u001b[0m\u001b[0;34m[\u001b[0m\u001b[0mself\u001b[0m\u001b[0;34m.\u001b[0m\u001b[0m_key\u001b[0m\u001b[0;34m]\u001b[0m\u001b[0;34m\u001b[0m\u001b[0;34m\u001b[0m\u001b[0m\n\u001b[0m\u001b[1;32m    200\u001b[0m             \u001b[0;32mexcept\u001b[0m \u001b[0mKeyError\u001b[0m\u001b[0;34m:\u001b[0m\u001b[0;34m\u001b[0m\u001b[0;34m\u001b[0m\u001b[0m\n",
      "\u001b[0;32m~/miniconda3/envs/py33/lib/python3.9/site-packages/xarray/backends/lru_cache.py\u001b[0m in \u001b[0;36m__getitem__\u001b[0;34m(self, key)\u001b[0m\n\u001b[1;32m     52\u001b[0m         \u001b[0;32mwith\u001b[0m \u001b[0mself\u001b[0m\u001b[0;34m.\u001b[0m\u001b[0m_lock\u001b[0m\u001b[0;34m:\u001b[0m\u001b[0;34m\u001b[0m\u001b[0;34m\u001b[0m\u001b[0m\n\u001b[0;32m---> 53\u001b[0;31m             \u001b[0mvalue\u001b[0m \u001b[0;34m=\u001b[0m \u001b[0mself\u001b[0m\u001b[0;34m.\u001b[0m\u001b[0m_cache\u001b[0m\u001b[0;34m[\u001b[0m\u001b[0mkey\u001b[0m\u001b[0;34m]\u001b[0m\u001b[0;34m\u001b[0m\u001b[0;34m\u001b[0m\u001b[0m\n\u001b[0m\u001b[1;32m     54\u001b[0m             \u001b[0mself\u001b[0m\u001b[0;34m.\u001b[0m\u001b[0m_cache\u001b[0m\u001b[0;34m.\u001b[0m\u001b[0mmove_to_end\u001b[0m\u001b[0;34m(\u001b[0m\u001b[0mkey\u001b[0m\u001b[0;34m)\u001b[0m\u001b[0;34m\u001b[0m\u001b[0;34m\u001b[0m\u001b[0m\n",
      "\u001b[0;31mKeyError\u001b[0m: [<class 'netCDF4._netCDF4.Dataset'>, ('/data1/adac/mitgcm/netcdf/ACC_SMST/derived/LLC4320_pre-SWOT_ACC_SMST_derived-fields_20120101.nc',), 'r', (('clobber', True), ('diskless', False), ('format', 'NETCDF4'), ('persist', False))]",
      "\nDuring handling of the above exception, another exception occurred:\n",
      "\u001b[0;31mFileNotFoundError\u001b[0m                         Traceback (most recent call last)",
      "\u001b[0;32m<ipython-input-61-188a3def43dd>\u001b[0m in \u001b[0;36m<module>\u001b[0;34m\u001b[0m\n\u001b[1;32m      7\u001b[0m \u001b[0mderivedir\u001b[0m \u001b[0;34m=\u001b[0m \u001b[0mdatadir\u001b[0m \u001b[0;34m+\u001b[0m \u001b[0;34m'derived/'\u001b[0m\u001b[0;34m\u001b[0m\u001b[0;34m\u001b[0m\u001b[0m\n\u001b[1;32m      8\u001b[0m \u001b[0mderived_files\u001b[0m \u001b[0;34m=\u001b[0m \u001b[0;34m[\u001b[0m\u001b[0;34mf'{derivedir}LLC4320_pre-SWOT_{RegionName}_derived-fields_{date_list[n].strftime(\"%Y%m%d\")}.nc'\u001b[0m \u001b[0;32mfor\u001b[0m \u001b[0mn\u001b[0m \u001b[0;32min\u001b[0m \u001b[0mrange\u001b[0m\u001b[0;34m(\u001b[0m\u001b[0mndays\u001b[0m\u001b[0;34m)\u001b[0m\u001b[0;34m]\u001b[0m \u001b[0;31m# list target files\u001b[0m\u001b[0;34m\u001b[0m\u001b[0;34m\u001b[0m\u001b[0m\n\u001b[0;32m----> 9\u001b[0;31m \u001b[0mdsd\u001b[0m \u001b[0;34m=\u001b[0m \u001b[0mxr\u001b[0m\u001b[0;34m.\u001b[0m\u001b[0mopen_mfdataset\u001b[0m\u001b[0;34m(\u001b[0m\u001b[0mderived_files\u001b[0m\u001b[0;34m)\u001b[0m\u001b[0;34m\u001b[0m\u001b[0;34m\u001b[0m\u001b[0m\n\u001b[0m\u001b[1;32m     10\u001b[0m \u001b[0;34m\u001b[0m\u001b[0m\n\u001b[1;32m     11\u001b[0m \u001b[0;31m# merge the derived and raw data\u001b[0m\u001b[0;34m\u001b[0m\u001b[0;34m\u001b[0m\u001b[0;34m\u001b[0m\u001b[0m\n",
      "\u001b[0;32m~/miniconda3/envs/py33/lib/python3.9/site-packages/xarray/backends/api.py\u001b[0m in \u001b[0;36mopen_mfdataset\u001b[0;34m(paths, chunks, concat_dim, compat, preprocess, engine, lock, data_vars, coords, combine, parallel, join, attrs_file, **kwargs)\u001b[0m\n\u001b[1;32m    938\u001b[0m         \u001b[0mgetattr_\u001b[0m \u001b[0;34m=\u001b[0m \u001b[0mgetattr\u001b[0m\u001b[0;34m\u001b[0m\u001b[0;34m\u001b[0m\u001b[0m\n\u001b[1;32m    939\u001b[0m \u001b[0;34m\u001b[0m\u001b[0m\n\u001b[0;32m--> 940\u001b[0;31m     \u001b[0mdatasets\u001b[0m \u001b[0;34m=\u001b[0m \u001b[0;34m[\u001b[0m\u001b[0mopen_\u001b[0m\u001b[0;34m(\u001b[0m\u001b[0mp\u001b[0m\u001b[0;34m,\u001b[0m \u001b[0;34m**\u001b[0m\u001b[0mopen_kwargs\u001b[0m\u001b[0;34m)\u001b[0m \u001b[0;32mfor\u001b[0m \u001b[0mp\u001b[0m \u001b[0;32min\u001b[0m \u001b[0mpaths\u001b[0m\u001b[0;34m]\u001b[0m\u001b[0;34m\u001b[0m\u001b[0;34m\u001b[0m\u001b[0m\n\u001b[0m\u001b[1;32m    941\u001b[0m     \u001b[0mclosers\u001b[0m \u001b[0;34m=\u001b[0m \u001b[0;34m[\u001b[0m\u001b[0mgetattr_\u001b[0m\u001b[0;34m(\u001b[0m\u001b[0mds\u001b[0m\u001b[0;34m,\u001b[0m \u001b[0;34m\"_close\"\u001b[0m\u001b[0;34m)\u001b[0m \u001b[0;32mfor\u001b[0m \u001b[0mds\u001b[0m \u001b[0;32min\u001b[0m \u001b[0mdatasets\u001b[0m\u001b[0;34m]\u001b[0m\u001b[0;34m\u001b[0m\u001b[0;34m\u001b[0m\u001b[0m\n\u001b[1;32m    942\u001b[0m     \u001b[0;32mif\u001b[0m \u001b[0mpreprocess\u001b[0m \u001b[0;32mis\u001b[0m \u001b[0;32mnot\u001b[0m \u001b[0;32mNone\u001b[0m\u001b[0;34m:\u001b[0m\u001b[0;34m\u001b[0m\u001b[0;34m\u001b[0m\u001b[0m\n",
      "\u001b[0;32m~/miniconda3/envs/py33/lib/python3.9/site-packages/xarray/backends/api.py\u001b[0m in \u001b[0;36m<listcomp>\u001b[0;34m(.0)\u001b[0m\n\u001b[1;32m    938\u001b[0m         \u001b[0mgetattr_\u001b[0m \u001b[0;34m=\u001b[0m \u001b[0mgetattr\u001b[0m\u001b[0;34m\u001b[0m\u001b[0;34m\u001b[0m\u001b[0m\n\u001b[1;32m    939\u001b[0m \u001b[0;34m\u001b[0m\u001b[0m\n\u001b[0;32m--> 940\u001b[0;31m     \u001b[0mdatasets\u001b[0m \u001b[0;34m=\u001b[0m \u001b[0;34m[\u001b[0m\u001b[0mopen_\u001b[0m\u001b[0;34m(\u001b[0m\u001b[0mp\u001b[0m\u001b[0;34m,\u001b[0m \u001b[0;34m**\u001b[0m\u001b[0mopen_kwargs\u001b[0m\u001b[0;34m)\u001b[0m \u001b[0;32mfor\u001b[0m \u001b[0mp\u001b[0m \u001b[0;32min\u001b[0m \u001b[0mpaths\u001b[0m\u001b[0;34m]\u001b[0m\u001b[0;34m\u001b[0m\u001b[0;34m\u001b[0m\u001b[0m\n\u001b[0m\u001b[1;32m    941\u001b[0m     \u001b[0mclosers\u001b[0m \u001b[0;34m=\u001b[0m \u001b[0;34m[\u001b[0m\u001b[0mgetattr_\u001b[0m\u001b[0;34m(\u001b[0m\u001b[0mds\u001b[0m\u001b[0;34m,\u001b[0m \u001b[0;34m\"_close\"\u001b[0m\u001b[0;34m)\u001b[0m \u001b[0;32mfor\u001b[0m \u001b[0mds\u001b[0m \u001b[0;32min\u001b[0m \u001b[0mdatasets\u001b[0m\u001b[0;34m]\u001b[0m\u001b[0;34m\u001b[0m\u001b[0;34m\u001b[0m\u001b[0m\n\u001b[1;32m    942\u001b[0m     \u001b[0;32mif\u001b[0m \u001b[0mpreprocess\u001b[0m \u001b[0;32mis\u001b[0m \u001b[0;32mnot\u001b[0m \u001b[0;32mNone\u001b[0m\u001b[0;34m:\u001b[0m\u001b[0;34m\u001b[0m\u001b[0;34m\u001b[0m\u001b[0m\n",
      "\u001b[0;32m~/miniconda3/envs/py33/lib/python3.9/site-packages/xarray/backends/api.py\u001b[0m in \u001b[0;36mopen_dataset\u001b[0;34m(filename_or_obj, group, decode_cf, mask_and_scale, decode_times, concat_characters, decode_coords, engine, chunks, lock, cache, drop_variables, backend_kwargs, use_cftime, decode_timedelta)\u001b[0m\n\u001b[1;32m    552\u001b[0m \u001b[0;34m\u001b[0m\u001b[0m\n\u001b[1;32m    553\u001b[0m         \u001b[0mopener\u001b[0m \u001b[0;34m=\u001b[0m \u001b[0m_get_backend_cls\u001b[0m\u001b[0;34m(\u001b[0m\u001b[0mengine\u001b[0m\u001b[0;34m)\u001b[0m\u001b[0;34m\u001b[0m\u001b[0;34m\u001b[0m\u001b[0m\n\u001b[0;32m--> 554\u001b[0;31m         \u001b[0mstore\u001b[0m \u001b[0;34m=\u001b[0m \u001b[0mopener\u001b[0m\u001b[0;34m(\u001b[0m\u001b[0mfilename_or_obj\u001b[0m\u001b[0;34m,\u001b[0m \u001b[0;34m**\u001b[0m\u001b[0mextra_kwargs\u001b[0m\u001b[0;34m,\u001b[0m \u001b[0;34m**\u001b[0m\u001b[0mbackend_kwargs\u001b[0m\u001b[0;34m)\u001b[0m\u001b[0;34m\u001b[0m\u001b[0;34m\u001b[0m\u001b[0m\n\u001b[0m\u001b[1;32m    555\u001b[0m \u001b[0;34m\u001b[0m\u001b[0m\n\u001b[1;32m    556\u001b[0m     \u001b[0;32mwith\u001b[0m \u001b[0mclose_on_error\u001b[0m\u001b[0;34m(\u001b[0m\u001b[0mstore\u001b[0m\u001b[0;34m)\u001b[0m\u001b[0;34m:\u001b[0m\u001b[0;34m\u001b[0m\u001b[0;34m\u001b[0m\u001b[0m\n",
      "\u001b[0;32m~/miniconda3/envs/py33/lib/python3.9/site-packages/xarray/backends/netCDF4_.py\u001b[0m in \u001b[0;36mopen\u001b[0;34m(cls, filename, mode, format, group, clobber, diskless, persist, lock, lock_maker, autoclose)\u001b[0m\n\u001b[1;32m    376\u001b[0m             \u001b[0mnetCDF4\u001b[0m\u001b[0;34m.\u001b[0m\u001b[0mDataset\u001b[0m\u001b[0;34m,\u001b[0m \u001b[0mfilename\u001b[0m\u001b[0;34m,\u001b[0m \u001b[0mmode\u001b[0m\u001b[0;34m=\u001b[0m\u001b[0mmode\u001b[0m\u001b[0;34m,\u001b[0m \u001b[0mkwargs\u001b[0m\u001b[0;34m=\u001b[0m\u001b[0mkwargs\u001b[0m\u001b[0;34m\u001b[0m\u001b[0;34m\u001b[0m\u001b[0m\n\u001b[1;32m    377\u001b[0m         )\n\u001b[0;32m--> 378\u001b[0;31m         \u001b[0;32mreturn\u001b[0m \u001b[0mcls\u001b[0m\u001b[0;34m(\u001b[0m\u001b[0mmanager\u001b[0m\u001b[0;34m,\u001b[0m \u001b[0mgroup\u001b[0m\u001b[0;34m=\u001b[0m\u001b[0mgroup\u001b[0m\u001b[0;34m,\u001b[0m \u001b[0mmode\u001b[0m\u001b[0;34m=\u001b[0m\u001b[0mmode\u001b[0m\u001b[0;34m,\u001b[0m \u001b[0mlock\u001b[0m\u001b[0;34m=\u001b[0m\u001b[0mlock\u001b[0m\u001b[0;34m,\u001b[0m \u001b[0mautoclose\u001b[0m\u001b[0;34m=\u001b[0m\u001b[0mautoclose\u001b[0m\u001b[0;34m)\u001b[0m\u001b[0;34m\u001b[0m\u001b[0;34m\u001b[0m\u001b[0m\n\u001b[0m\u001b[1;32m    379\u001b[0m \u001b[0;34m\u001b[0m\u001b[0m\n\u001b[1;32m    380\u001b[0m     \u001b[0;32mdef\u001b[0m \u001b[0m_acquire\u001b[0m\u001b[0;34m(\u001b[0m\u001b[0mself\u001b[0m\u001b[0;34m,\u001b[0m \u001b[0mneeds_lock\u001b[0m\u001b[0;34m=\u001b[0m\u001b[0;32mTrue\u001b[0m\u001b[0;34m)\u001b[0m\u001b[0;34m:\u001b[0m\u001b[0;34m\u001b[0m\u001b[0;34m\u001b[0m\u001b[0m\n",
      "\u001b[0;32m~/miniconda3/envs/py33/lib/python3.9/site-packages/xarray/backends/netCDF4_.py\u001b[0m in \u001b[0;36m__init__\u001b[0;34m(self, manager, group, mode, lock, autoclose)\u001b[0m\n\u001b[1;32m    324\u001b[0m         \u001b[0mself\u001b[0m\u001b[0;34m.\u001b[0m\u001b[0m_group\u001b[0m \u001b[0;34m=\u001b[0m \u001b[0mgroup\u001b[0m\u001b[0;34m\u001b[0m\u001b[0;34m\u001b[0m\u001b[0m\n\u001b[1;32m    325\u001b[0m         \u001b[0mself\u001b[0m\u001b[0;34m.\u001b[0m\u001b[0m_mode\u001b[0m \u001b[0;34m=\u001b[0m \u001b[0mmode\u001b[0m\u001b[0;34m\u001b[0m\u001b[0;34m\u001b[0m\u001b[0m\n\u001b[0;32m--> 326\u001b[0;31m         \u001b[0mself\u001b[0m\u001b[0;34m.\u001b[0m\u001b[0mformat\u001b[0m \u001b[0;34m=\u001b[0m \u001b[0mself\u001b[0m\u001b[0;34m.\u001b[0m\u001b[0mds\u001b[0m\u001b[0;34m.\u001b[0m\u001b[0mdata_model\u001b[0m\u001b[0;34m\u001b[0m\u001b[0;34m\u001b[0m\u001b[0m\n\u001b[0m\u001b[1;32m    327\u001b[0m         \u001b[0mself\u001b[0m\u001b[0;34m.\u001b[0m\u001b[0m_filename\u001b[0m \u001b[0;34m=\u001b[0m \u001b[0mself\u001b[0m\u001b[0;34m.\u001b[0m\u001b[0mds\u001b[0m\u001b[0;34m.\u001b[0m\u001b[0mfilepath\u001b[0m\u001b[0;34m(\u001b[0m\u001b[0;34m)\u001b[0m\u001b[0;34m\u001b[0m\u001b[0;34m\u001b[0m\u001b[0m\n\u001b[1;32m    328\u001b[0m         \u001b[0mself\u001b[0m\u001b[0;34m.\u001b[0m\u001b[0mis_remote\u001b[0m \u001b[0;34m=\u001b[0m \u001b[0mis_remote_uri\u001b[0m\u001b[0;34m(\u001b[0m\u001b[0mself\u001b[0m\u001b[0;34m.\u001b[0m\u001b[0m_filename\u001b[0m\u001b[0;34m)\u001b[0m\u001b[0;34m\u001b[0m\u001b[0;34m\u001b[0m\u001b[0m\n",
      "\u001b[0;32m~/miniconda3/envs/py33/lib/python3.9/site-packages/xarray/backends/netCDF4_.py\u001b[0m in \u001b[0;36mds\u001b[0;34m(self)\u001b[0m\n\u001b[1;32m    385\u001b[0m     \u001b[0;34m@\u001b[0m\u001b[0mproperty\u001b[0m\u001b[0;34m\u001b[0m\u001b[0;34m\u001b[0m\u001b[0m\n\u001b[1;32m    386\u001b[0m     \u001b[0;32mdef\u001b[0m \u001b[0mds\u001b[0m\u001b[0;34m(\u001b[0m\u001b[0mself\u001b[0m\u001b[0;34m)\u001b[0m\u001b[0;34m:\u001b[0m\u001b[0;34m\u001b[0m\u001b[0;34m\u001b[0m\u001b[0m\n\u001b[0;32m--> 387\u001b[0;31m         \u001b[0;32mreturn\u001b[0m \u001b[0mself\u001b[0m\u001b[0;34m.\u001b[0m\u001b[0m_acquire\u001b[0m\u001b[0;34m(\u001b[0m\u001b[0;34m)\u001b[0m\u001b[0;34m\u001b[0m\u001b[0;34m\u001b[0m\u001b[0m\n\u001b[0m\u001b[1;32m    388\u001b[0m \u001b[0;34m\u001b[0m\u001b[0m\n\u001b[1;32m    389\u001b[0m     \u001b[0;32mdef\u001b[0m \u001b[0mopen_store_variable\u001b[0m\u001b[0;34m(\u001b[0m\u001b[0mself\u001b[0m\u001b[0;34m,\u001b[0m \u001b[0mname\u001b[0m\u001b[0;34m,\u001b[0m \u001b[0mvar\u001b[0m\u001b[0;34m)\u001b[0m\u001b[0;34m:\u001b[0m\u001b[0;34m\u001b[0m\u001b[0;34m\u001b[0m\u001b[0m\n",
      "\u001b[0;32m~/miniconda3/envs/py33/lib/python3.9/site-packages/xarray/backends/netCDF4_.py\u001b[0m in \u001b[0;36m_acquire\u001b[0;34m(self, needs_lock)\u001b[0m\n\u001b[1;32m    379\u001b[0m \u001b[0;34m\u001b[0m\u001b[0m\n\u001b[1;32m    380\u001b[0m     \u001b[0;32mdef\u001b[0m \u001b[0m_acquire\u001b[0m\u001b[0;34m(\u001b[0m\u001b[0mself\u001b[0m\u001b[0;34m,\u001b[0m \u001b[0mneeds_lock\u001b[0m\u001b[0;34m=\u001b[0m\u001b[0;32mTrue\u001b[0m\u001b[0;34m)\u001b[0m\u001b[0;34m:\u001b[0m\u001b[0;34m\u001b[0m\u001b[0;34m\u001b[0m\u001b[0m\n\u001b[0;32m--> 381\u001b[0;31m         \u001b[0;32mwith\u001b[0m \u001b[0mself\u001b[0m\u001b[0;34m.\u001b[0m\u001b[0m_manager\u001b[0m\u001b[0;34m.\u001b[0m\u001b[0macquire_context\u001b[0m\u001b[0;34m(\u001b[0m\u001b[0mneeds_lock\u001b[0m\u001b[0;34m)\u001b[0m \u001b[0;32mas\u001b[0m \u001b[0mroot\u001b[0m\u001b[0;34m:\u001b[0m\u001b[0;34m\u001b[0m\u001b[0;34m\u001b[0m\u001b[0m\n\u001b[0m\u001b[1;32m    382\u001b[0m             \u001b[0mds\u001b[0m \u001b[0;34m=\u001b[0m \u001b[0m_nc4_require_group\u001b[0m\u001b[0;34m(\u001b[0m\u001b[0mroot\u001b[0m\u001b[0;34m,\u001b[0m \u001b[0mself\u001b[0m\u001b[0;34m.\u001b[0m\u001b[0m_group\u001b[0m\u001b[0;34m,\u001b[0m \u001b[0mself\u001b[0m\u001b[0;34m.\u001b[0m\u001b[0m_mode\u001b[0m\u001b[0;34m)\u001b[0m\u001b[0;34m\u001b[0m\u001b[0;34m\u001b[0m\u001b[0m\n\u001b[1;32m    383\u001b[0m         \u001b[0;32mreturn\u001b[0m \u001b[0mds\u001b[0m\u001b[0;34m\u001b[0m\u001b[0;34m\u001b[0m\u001b[0m\n",
      "\u001b[0;32m~/miniconda3/envs/py33/lib/python3.9/contextlib.py\u001b[0m in \u001b[0;36m__enter__\u001b[0;34m(self)\u001b[0m\n\u001b[1;32m    115\u001b[0m         \u001b[0;32mdel\u001b[0m \u001b[0mself\u001b[0m\u001b[0;34m.\u001b[0m\u001b[0margs\u001b[0m\u001b[0;34m,\u001b[0m \u001b[0mself\u001b[0m\u001b[0;34m.\u001b[0m\u001b[0mkwds\u001b[0m\u001b[0;34m,\u001b[0m \u001b[0mself\u001b[0m\u001b[0;34m.\u001b[0m\u001b[0mfunc\u001b[0m\u001b[0;34m\u001b[0m\u001b[0;34m\u001b[0m\u001b[0m\n\u001b[1;32m    116\u001b[0m         \u001b[0;32mtry\u001b[0m\u001b[0;34m:\u001b[0m\u001b[0;34m\u001b[0m\u001b[0;34m\u001b[0m\u001b[0m\n\u001b[0;32m--> 117\u001b[0;31m             \u001b[0;32mreturn\u001b[0m \u001b[0mnext\u001b[0m\u001b[0;34m(\u001b[0m\u001b[0mself\u001b[0m\u001b[0;34m.\u001b[0m\u001b[0mgen\u001b[0m\u001b[0;34m)\u001b[0m\u001b[0;34m\u001b[0m\u001b[0;34m\u001b[0m\u001b[0m\n\u001b[0m\u001b[1;32m    118\u001b[0m         \u001b[0;32mexcept\u001b[0m \u001b[0mStopIteration\u001b[0m\u001b[0;34m:\u001b[0m\u001b[0;34m\u001b[0m\u001b[0;34m\u001b[0m\u001b[0m\n\u001b[1;32m    119\u001b[0m             \u001b[0;32mraise\u001b[0m \u001b[0mRuntimeError\u001b[0m\u001b[0;34m(\u001b[0m\u001b[0;34m\"generator didn't yield\"\u001b[0m\u001b[0;34m)\u001b[0m \u001b[0;32mfrom\u001b[0m \u001b[0;32mNone\u001b[0m\u001b[0;34m\u001b[0m\u001b[0;34m\u001b[0m\u001b[0m\n",
      "\u001b[0;32m~/miniconda3/envs/py33/lib/python3.9/site-packages/xarray/backends/file_manager.py\u001b[0m in \u001b[0;36macquire_context\u001b[0;34m(self, needs_lock)\u001b[0m\n\u001b[1;32m    185\u001b[0m     \u001b[0;32mdef\u001b[0m \u001b[0macquire_context\u001b[0m\u001b[0;34m(\u001b[0m\u001b[0mself\u001b[0m\u001b[0;34m,\u001b[0m \u001b[0mneeds_lock\u001b[0m\u001b[0;34m=\u001b[0m\u001b[0;32mTrue\u001b[0m\u001b[0;34m)\u001b[0m\u001b[0;34m:\u001b[0m\u001b[0;34m\u001b[0m\u001b[0;34m\u001b[0m\u001b[0m\n\u001b[1;32m    186\u001b[0m         \u001b[0;34m\"\"\"Context manager for acquiring a file.\"\"\"\u001b[0m\u001b[0;34m\u001b[0m\u001b[0;34m\u001b[0m\u001b[0m\n\u001b[0;32m--> 187\u001b[0;31m         \u001b[0mfile\u001b[0m\u001b[0;34m,\u001b[0m \u001b[0mcached\u001b[0m \u001b[0;34m=\u001b[0m \u001b[0mself\u001b[0m\u001b[0;34m.\u001b[0m\u001b[0m_acquire_with_cache_info\u001b[0m\u001b[0;34m(\u001b[0m\u001b[0mneeds_lock\u001b[0m\u001b[0;34m)\u001b[0m\u001b[0;34m\u001b[0m\u001b[0;34m\u001b[0m\u001b[0m\n\u001b[0m\u001b[1;32m    188\u001b[0m         \u001b[0;32mtry\u001b[0m\u001b[0;34m:\u001b[0m\u001b[0;34m\u001b[0m\u001b[0;34m\u001b[0m\u001b[0m\n\u001b[1;32m    189\u001b[0m             \u001b[0;32myield\u001b[0m \u001b[0mfile\u001b[0m\u001b[0;34m\u001b[0m\u001b[0;34m\u001b[0m\u001b[0m\n",
      "\u001b[0;32m~/miniconda3/envs/py33/lib/python3.9/site-packages/xarray/backends/file_manager.py\u001b[0m in \u001b[0;36m_acquire_with_cache_info\u001b[0;34m(self, needs_lock)\u001b[0m\n\u001b[1;32m    203\u001b[0m                     \u001b[0mkwargs\u001b[0m \u001b[0;34m=\u001b[0m \u001b[0mkwargs\u001b[0m\u001b[0;34m.\u001b[0m\u001b[0mcopy\u001b[0m\u001b[0;34m(\u001b[0m\u001b[0;34m)\u001b[0m\u001b[0;34m\u001b[0m\u001b[0;34m\u001b[0m\u001b[0m\n\u001b[1;32m    204\u001b[0m                     \u001b[0mkwargs\u001b[0m\u001b[0;34m[\u001b[0m\u001b[0;34m\"mode\"\u001b[0m\u001b[0;34m]\u001b[0m \u001b[0;34m=\u001b[0m \u001b[0mself\u001b[0m\u001b[0;34m.\u001b[0m\u001b[0m_mode\u001b[0m\u001b[0;34m\u001b[0m\u001b[0;34m\u001b[0m\u001b[0m\n\u001b[0;32m--> 205\u001b[0;31m                 \u001b[0mfile\u001b[0m \u001b[0;34m=\u001b[0m \u001b[0mself\u001b[0m\u001b[0;34m.\u001b[0m\u001b[0m_opener\u001b[0m\u001b[0;34m(\u001b[0m\u001b[0;34m*\u001b[0m\u001b[0mself\u001b[0m\u001b[0;34m.\u001b[0m\u001b[0m_args\u001b[0m\u001b[0;34m,\u001b[0m \u001b[0;34m**\u001b[0m\u001b[0mkwargs\u001b[0m\u001b[0;34m)\u001b[0m\u001b[0;34m\u001b[0m\u001b[0;34m\u001b[0m\u001b[0m\n\u001b[0m\u001b[1;32m    206\u001b[0m                 \u001b[0;32mif\u001b[0m \u001b[0mself\u001b[0m\u001b[0;34m.\u001b[0m\u001b[0m_mode\u001b[0m \u001b[0;34m==\u001b[0m \u001b[0;34m\"w\"\u001b[0m\u001b[0;34m:\u001b[0m\u001b[0;34m\u001b[0m\u001b[0;34m\u001b[0m\u001b[0m\n\u001b[1;32m    207\u001b[0m                     \u001b[0;31m# ensure file doesn't get overriden when opened again\u001b[0m\u001b[0;34m\u001b[0m\u001b[0;34m\u001b[0m\u001b[0;34m\u001b[0m\u001b[0m\n",
      "\u001b[0;32msrc/netCDF4/_netCDF4.pyx\u001b[0m in \u001b[0;36mnetCDF4._netCDF4.Dataset.__init__\u001b[0;34m()\u001b[0m\n",
      "\u001b[0;32msrc/netCDF4/_netCDF4.pyx\u001b[0m in \u001b[0;36mnetCDF4._netCDF4._ensure_nc_success\u001b[0;34m()\u001b[0m\n",
      "\u001b[0;31mFileNotFoundError\u001b[0m: [Errno 2] No such file or directory: b'/data1/adac/mitgcm/netcdf/ACC_SMST/derived/LLC4320_pre-SWOT_ACC_SMST_derived-fields_20120101.nc'"
     ]
    }
   ],
   "source": [
    "# Load all model data files  \n",
    "date_list = [start_date + datetime.timedelta(days=x) for x in range(ndays)]\n",
    "target_files = [f'{datadir}LLC4320_pre-SWOT_{RegionName}_{date_list[n].strftime(\"%Y%m%d\")}.nc' for n in range(ndays)] # list target files\n",
    "ds = xr.open_mfdataset(target_files, parallel=True)\n",
    "\n",
    "# load the corresponding derived fields\n",
    "derivedir = datadir + 'derived/'\n",
    "derived_files = [f'{derivedir}LLC4320_pre-SWOT_{RegionName}_derived-fields_{date_list[n].strftime(\"%Y%m%d\")}.nc' for n in range(ndays)] # list target files\n",
    "dsd = xr.open_mfdataset(derived_files)\n",
    "\n",
    "# merge the derived and raw data\n",
    "ds = ds.merge(dsd)\n",
    "\n",
    "# Convert lon, lat and z to index i, j and k with f_x, f_y and f_z\n",
    "# XC, YC and Z are the same at all times, so select a single time\n",
    "X = ds.XC.isel(time=0) \n",
    "Y = ds.YC.isel(time=0)"
   ]
  },
  {
   "cell_type": "markdown",
   "id": "c83d3397-c4bf-430d-bf07-4dae3a064cc5",
   "metadata": {},
   "source": [
    "### Create & plot sampling track"
   ]
  },
  {
   "cell_type": "code",
   "execution_count": 5,
   "id": "1c9f0f6d-6f28-46a1-84fb-edc3aeda271b",
   "metadata": {},
   "outputs": [
    {
     "data": {
      "text/plain": [
       "{'xmooring': array(152.29167, dtype=float32),\n",
       " 'ymooring': array(-55.023106, dtype=float32),\n",
       " 'zmooring_TS': [-1, -10, -50, -100],\n",
       " 'zmooring_UV': [-1, -10, -50, -100],\n",
       " 'SAMPLING_STRATEGY': 'sim_mooring',\n",
       " 'PATTERN': 'lawnmower'}"
      ]
     },
     "execution_count": 5,
     "metadata": {},
     "output_type": "execute_result"
    }
   ],
   "source": [
    "del sys.modules['osse_tools'] \n",
    "from osse_tools import download_llc4320_data, compute_derived_fields, get_survey_track, survey_interp\n",
    "\n",
    "sampling_details['SAMPLING_STRATEGY'] = 'sim_mooring'\n",
    "\n",
    "survey_track, survey_indices, sampling_parameters = get_survey_track(ds, sampling_details)\n",
    "\n",
    "# print specified sampling_details + any default values\n",
    "sampling_parameters "
   ]
  },
  {
   "cell_type": "markdown",
   "id": "b1ce76d0-e954-4d3f-a3ea-34a752b57686",
   "metadata": {},
   "source": [
    "### Visualizations"
   ]
  },
  {
   "cell_type": "code",
   "execution_count": null,
   "id": "6585a353-c3a7-465d-ae97-b1bdf859a7da",
   "metadata": {},
   "outputs": [],
   "source": [
    "## Visualize track over a single model snapshot:\n",
    "%matplotlib inline\n",
    "plt.figure(figsize=(7,5))\n",
    "ssto = plt.pcolormesh(X,Y,ds.Theta.isel(k=0, time=0).values, shading='auto')\n",
    "tracko = plt.scatter(survey_track.lon, survey_track.lat, c=survey_track.time, cmap='Reds', s=0.75)\n",
    "plt.title('SST and survey track: ' + RegionName)\n",
    "plt.colorbar(ssto).set_label('SST, $^o$C')\n",
    "plt.colorbar(tracko).set_label('day')\n",
    "plt.show()"
   ]
  },
  {
   "cell_type": "markdown",
   "id": "8a0e11cc-a32d-4020-8d60-2c46f93c763e",
   "metadata": {},
   "source": [
    "### Interpolate data with the specified sampling pattern (this is where the magic happens!)"
   ]
  },
  {
   "cell_type": "code",
   "execution_count": 6,
   "id": "3d93276e-31e5-472b-85b0-f790f11ed274",
   "metadata": {},
   "outputs": [],
   "source": [
    "del sys.modules['osse_tools'] \n",
    "from osse_tools import survey_interp, get_survey_track\n",
    "\n",
    "sdata, sgr = survey_interp(ds, survey_track, survey_indices)\n"
   ]
  },
  {
   "cell_type": "markdown",
   "id": "6e662aa0-f47f-4053-bce7-e0bec7bd6c79",
   "metadata": {},
   "source": [
    "### Save interpolated data"
   ]
  },
  {
   "cell_type": "code",
   "execution_count": 139,
   "id": "e26a2a28-7e3c-4cf0-b276-1fbe317ee72f",
   "metadata": {},
   "outputs": [],
   "source": [
    "# add metadata to attributes\n",
    "attrs = sampling_parameters\n",
    "attrs['start_date'] = start_date\n",
    "attrs['ndays'] = ndays\n",
    "sdata.attrs = attrs\n",
    "sgr.attrs = attrs\n",
    "\n",
    "# ADD SAVE CODE HERE"
   ]
  },
  {
   "cell_type": "markdown",
   "id": "b82b82b8-d505-43eb-92f3-8c7ba88cbff2",
   "metadata": {},
   "source": [
    "### Visualize interpolated data in 3D"
   ]
  },
  {
   "cell_type": "code",
   "execution_count": null,
   "id": "928b517f-b8d3-4d03-8c0e-1f920c9946e7",
   "metadata": {},
   "outputs": [],
   "source": [
    "%matplotlib qt\n",
    "\n",
    "fig = plt.figure(figsize=(12, 12))\n",
    "ax = plt.axes(projection='3d')\n",
    "fig.subplots_adjust(left=0.25, bottom=0.25)\n",
    "\n",
    "ax.set_xlabel('longitude', fontsize=15, rotation=150)\n",
    "ax.set_ylabel('latitude',fontsize=15)\n",
    "ax.set_zlabel('depth', fontsize=15, rotation=60)\n",
    "\n",
    "p = ax.scatter3D(sdata.lon.data, sdata.lat.data, sdata.dep.data, c=sdata.Theta.data, s=1)\n",
    "fig.colorbar(p).set_label('Temperature ($^o$C)')\n",
    "ax.set_title('Temperature interpolated to the survey track')"
   ]
  },
  {
   "cell_type": "code",
   "execution_count": null,
   "id": "be5bead4-4df4-4691-ad02-1381f86c47b4",
   "metadata": {},
   "outputs": [],
   "source": [
    "# reshaped_ds.sel(t=slice(0,len(t),2))['Theta'].plot()\n",
    "plt.plot(reshaped_ds.sel(t=slice(0,len(t),2))['Theta'].data)"
   ]
  },
  {
   "cell_type": "code",
   "execution_count": null,
   "id": "698cfe38-3200-4622-a23a-905764ef10f3",
   "metadata": {},
   "outputs": [],
   "source": [
    "# sgr.oceTAUX.plot()\n",
    "plt.quiver(sgr.time.data,0,sgr.oceTAUX.data, sgr.oceTAUY.data)"
   ]
  },
  {
   "cell_type": "code",
   "execution_count": null,
   "id": "59abf779-f569-49e5-a21f-2d89eae18a2d",
   "metadata": {},
   "outputs": [],
   "source": []
  },
  {
   "cell_type": "code",
   "execution_count": null,
   "id": "f806280d-f085-4789-a72f-e7a729e64f61",
   "metadata": {},
   "outputs": [],
   "source": []
  },
  {
   "cell_type": "code",
   "execution_count": null,
   "id": "4ae916f1-090b-487d-a586-f4b9d1a32823",
   "metadata": {},
   "outputs": [],
   "source": [
    "# plot to compare the two methods \n",
    "# ( not quite working )\n",
    "tpl = ds['time']/24,sss[:,0,0,0]\n",
    "ttt=ds['time']\n",
    "# ipl = ( sdata.dep.values == sdata.dep.values.min() )\n",
    "# plt.plot(sdata.time(ipl),sdata.Salt.sel(ipl).data,'-')\n",
    "# plt.plot(sdata.time,sdata.Salt.data,'-')\n",
    "plt.plot(tgr,np.transpose(dum),'-')\n",
    "plt.plot(ttt[:],sss[:,0,0,0],'k--')\n",
    "# plt.legend('survey_interp method','direct interpolation')"
   ]
  },
  {
   "cell_type": "markdown",
   "id": "2043f1a9-8daf-453f-9571-f62cf0cba80e",
   "metadata": {},
   "source": [
    "### Visualize steric height"
   ]
  },
  {
   "cell_type": "code",
   "execution_count": null,
   "id": "d9938dd8-ac0c-4f88-b978-9ee45f9a283c",
   "metadata": {},
   "outputs": [],
   "source": [
    "%matplotlib inline\n",
    "sh_anom = sh_true.values - sh_true.values.mean()\n",
    "plt.figure(figsize=(7,5))\n",
    "sho = plt.scatter(survey_track.lon, survey_track.lat, c=sh_anom)\n",
    "plt.title('Steric height anomaly')\n",
    "plt.colorbar(sho).set_label('m')\n",
    "plt.show()"
   ]
  },
  {
   "cell_type": "markdown",
   "id": "e205e49e-466a-453d-9c1a-8e1dd7516012",
   "metadata": {},
   "source": [
    "### Comparison of true vs sampled steric height\n",
    "Plot comparing the \"true\" steric height along the track and the subsampled steric height, which is computed by integrating the specific volume anomaly for each subsampled profile from its deepest sampling depth"
   ]
  },
  {
   "cell_type": "code",
   "execution_count": null,
   "id": "cbbcc511-d507-4d6f-9542-6ed53eae79f1",
   "metadata": {},
   "outputs": [],
   "source": [
    "%matplotlib inline\n",
    "\n",
    "# truth:\n",
    "plt.plot(sh_true.time, sh_true.values - sh_true.values.mean())\n",
    "# get index of the deepest sampling depths\n",
    "i = ( sdata.dep.values == sdata.dep.values.min() )\n",
    "plt.plot(sdata.time.values[i], sdata.steric_height.values[i] - sdata.steric_height.values[i].mean(),'.-')\n",
    "plt.title('Steric height anomaly along the survey track')\n",
    "plt.legend(['truth','subsampled data'])\n",
    "plt.xlabel('time, days')\n",
    "plt.ylabel('steric height anom., m')"
   ]
  },
  {
   "cell_type": "code",
   "execution_count": null,
   "id": "0e48b496-0dfc-466d-97c8-655b2102591c",
   "metadata": {},
   "outputs": [],
   "source": [
    "# NEW CODE  BELOW\n",
    "\n",
    "# interpolation:\n",
    "subsampled_data = xr.Dataset()  \n",
    "\n",
    "# loop & interpolate through 3d variables:\n",
    "vbls3d = ['Theta','Salt','vorticity']\n",
    "# vbls3d = ['Theta']\n",
    "for vbl in vbls3d:\n",
    "    subsampled_data[vbl]=ds[vbl].interp(survey_indices)\n",
    "# # Interpolate U and V from i_g, j_g to i, j, then interpolate:\n",
    "# U_c = grid.interp(ds.U, 'X', boundary='extend')\n",
    "# V_c = grid.interp(ds.V, 'Y', boundary='extend')\n",
    "# subsampled_data['U'] = U_c.interp(survey_indices)\n",
    "# subsampled_data['V'] = V_c.interp(survey_indices)\n",
    "\n",
    "subsampled_data['lon']=survey_track.lon\n",
    "subsampled_data['lat']=survey_track.lat\n",
    "subsampled_data['dep']=survey_track.dep\n",
    "subsampled_data['time']=survey_track.time \n",
    "\n",
    "# loop & interpolate through 2d variables:\n",
    "vbls2d = ['Eta', 'KPPhbl', 'PhiBot', 'oceFWflx', 'oceQnet', 'oceQsw', 'oceSflux', 'oceTAUX', 'oceTAUY']\n",
    "vbls2d = ['Eta', 'Depth']\n",
    "# create 2-d survey track by removing the depth dimension\n",
    "survey_indices_2d =  survey_indices.drop_vars('k')\n",
    "for vbl in vbls2d:\n",
    "    subsampled_data[vbl]=ds[vbl].interp(survey_indices_2d)\n",
    "# survey_indices_2d.i.plot()\n",
    "# ds['KPPhbl'].interp(survey_indices_2d).plot()\n",
    "\n",
    "# interp\n",
    "# this returns a value at every timestep (points) - very high resolution\n",
    "# - could subsample to the model time grid \n",
    "\n",
    "\n",
    "# plot\n",
    "# plt.plot(sh_true.time, sh_true.values - sh_true.values.mean())\n",
    "# plt.plot(subsampled_data.time, ssh - ssh.mean())\n"
   ]
  },
  {
   "cell_type": "code",
   "execution_count": null,
   "id": "c578cb0a-922b-4bfc-a979-d27c06090b99",
   "metadata": {},
   "outputs": [],
   "source": [
    "subsampled_data = xr.Dataset() \n",
    "\n",
    "# loop & interpolate through 3d variables:\n",
    "vbls3d = ['Theta','Salt','vorticity','steric_height']\n",
    "for vbl in vbls3d:\n",
    "    subsampled_data[vbl]=ds[vbl].interp(survey_indices)\n",
    "# Interpolate U and V from i_g, j_g to i, j, then interpolate:\n",
    "# Get u, v\n",
    "grid = Grid(ds, coords={'X':{'center': 'i', 'left': 'i_g'}, \n",
    "                        'Y':{'center': 'j', 'left': 'j_g'},\n",
    "                        'Z':{'center': 'k'}})\n",
    "U_c = grid.interp(ds.U, 'X', boundary='extend')\n",
    "V_c = grid.interp(ds.V, 'Y', boundary='extend')\n",
    "subsampled_data['U'] = U_c.interp(survey_indices)\n",
    "subsampled_data['V'] = V_c.interp(survey_indices)\n",
    "\n",
    "\n",
    "# add lat/lon/time to dataset\n",
    "subsampled_data['lon']=survey_track.lon\n",
    "subsampled_data['lat']=survey_track.lat\n",
    "subsampled_data['dep']=survey_track.dep\n",
    "subsampled_data['time']=survey_track.time  \n",
    "\n",
    "# loop & interpolate through 2d variables:\n",
    "vbls2d = ['Eta', 'KPPhbl', 'PhiBot', 'oceFWflx', 'oceQnet', 'oceQsw', 'oceSflux']\n",
    "# create 2-d survey track by removing the depth dimension\n",
    "survey_indices_2d =  survey_indices.drop_vars('k')\n",
    "for vbl in vbls2d:\n",
    "    subsampled_data[vbl]=ds[vbl].interp(survey_indices_2d)   \n",
    "# taux & tauy must be treated like U and V\n",
    "oceTAUX_c = grid.interp(ds.oceTAUX, 'X', boundary='extend')\n",
    "oceTAUY_c = grid.interp(ds.oceTAUY, 'Y', boundary='extend')\n",
    "subsampled_data['oceTAUX'] = oceTAUX_c.interp(survey_indices_2d)\n",
    "subsampled_data['oceTAUY'] = oceTAUY_c.interp(survey_indices_2d)\n",
    "\n",
    "\n",
    "    "
   ]
  },
  {
   "cell_type": "code",
   "execution_count": null,
   "id": "9235f097-7730-4dcf-9448-c720a6f3ad2b",
   "metadata": {},
   "outputs": [],
   "source": [
    "ds.U"
   ]
  },
  {
   "cell_type": "code",
   "execution_count": null,
   "id": "61247c87-ea9e-4b8a-8101-02a8e310b74b",
   "metadata": {},
   "outputs": [],
   "source": [
    "plt.plot(sh_true.time, sh_true.values - sh_true.values.mean())\n",
    "plt.plot(subsampled_data.time, ssh - ssh.mean())\n"
   ]
  },
  {
   "cell_type": "code",
   "execution_count": null,
   "id": "1855af41-ccd8-4409-898b-bd3e76332862",
   "metadata": {},
   "outputs": [],
   "source": [
    "# mooring test\n",
    "\n",
    "model_xav = ds.XC.cccc.mean(dim='i').values\n",
    "model_yav = ds.YC.isel(time=0, i=0).mean(dim='j').values\n",
    "\n",
    "xmooring = model_xav # default lat/lon is the center of the domain\n",
    "ymooring = model_yav\n",
    "zmooring_TS = [-1, -10, -50, -100] # depth of T/S instruments\n",
    "zmooring_UV = [-1, -10, -50, -100, -200, -300, -400, -500] # depth of U/V instruments\n",
    "\n",
    "\n",
    "ts = ds.time\n",
    "n_samples = ts.size\n",
    "n_depths_TS = np.size(zmooring_TS)\n",
    "n_depths_UV = np.size(zmooring_UV)\n",
    "# depth sampling - different for TS and UV\n",
    "zs_TS = np.transpose(np.tile(zmooring_TS,(n_samples,1)))\n",
    "zs_UV = np.transpose(np.tile(zmooring_UV,(n_samples,1)))\n",
    "xs_TS = xmooring * np.ones([n_depths_TS, n_samples])\n",
    "ys_TS = ymooring * np.ones([n_depths_TS, n_samples])\n",
    "xs_UV = xmooring * np.ones([n_depths_TS, n_samples])\n",
    "ys_UV = ymooring * np.ones([n_depths_TS, n_samples])\n",
    "\n",
    "survey_track = xr.Dataset(\n",
    "    dict(\n",
    "        lon = xr.DataArray(xs_TS,dims='points'),\n",
    "        lat = xr.DataArray(ys_TS,dims='points'),\n",
    "        dep = xr.DataArray(zs_TS,dims='points'),\n",
    "        time = xr.DataArray(ts_TS,dims='points')\n",
    "    )\n",
    ")\n",
    "\n"
   ]
  },
  {
   "cell_type": "code",
   "execution_count": null,
   "id": "cfb8841e-fab5-4e62-b6c5-6d885667da37",
   "metadata": {},
   "outputs": [],
   "source": [
    "# np.broadcast_to([-1, -10, -50, -100],(2,4))\n",
    "np.broadcast_to([-1, -10, -50, -100],(2,4))"
   ]
  },
  {
   "cell_type": "code",
   "execution_count": null,
   "id": "0262f9d3-aeb6-4d36-8481-84b2e31b5e44",
   "metadata": {},
   "outputs": [],
   "source": [
    "# np.broadcast_to(zmooring_TS,(2,4))\n",
    "# np.tile(zmooring_TS.transpose,(2,1))\n",
    "# np.tile(np.transpose(zmooring_TS),(1,n_samples)).shape\n",
    "# xs_TS.shape\n",
    "# [-1, -10, -50, -100]\n",
    "# zmooring_TS\n",
    "\n",
    "# np.transpose(np.array(zmooring_TS)).shape \n",
    "np.transpose(np.tile(zmooring_TS,(n_samples,1))).shape\n",
    "xs_TS.shape"
   ]
  },
  {
   "cell_type": "code",
   "execution_count": null,
   "id": "7dc7d2d1-df54-45c5-86b8-06d4f253b529",
   "metadata": {},
   "outputs": [],
   "source": [
    "sdata"
   ]
  },
  {
   "cell_type": "code",
   "execution_count": null,
   "id": "801311b8-64f3-469e-8a57-3b543588d8db",
   "metadata": {},
   "outputs": [],
   "source": [
    "plt.scatter(subsampled_data.time,subsampled_data.dep,c=subsampled_data.Theta)\n",
    "plt.plot(subsampled_data.time,-subsampled_data.Depth,c='r')"
   ]
  },
  {
   "cell_type": "code",
   "execution_count": null,
   "id": "8e39b372-d0a4-443c-9b7d-bfee4d0911a2",
   "metadata": {},
   "outputs": [],
   "source": [
    "sh_true.plot()"
   ]
  },
  {
   "cell_type": "code",
   "execution_count": null,
   "id": "937a7751-cb24-402d-ab9a-cfdf5d47458b",
   "metadata": {},
   "outputs": [],
   "source": [
    "\n",
    "# we interpolated everything to the \"points\" - one datapoint per sample\n",
    "# but we may also want a cleaner (gridded) output product that has been reshaped into \n",
    "# profiles (i.e., a X x Z x T array)\n",
    "# (This might not make sense for glider data, since profiles are likely > one model gridpoint)\n",
    "\n",
    "# separate these into \"subsampled_points\" and \"subsampled_profiles\"?\n",
    "\n",
    "# a couple ways to determine the profiles:\n",
    "# - one per down / one per up, with time as either the start/mean/end\n",
    "# - one per down-up, with the time as the deepest point\n",
    "# - maybe others? would be useful to get feedback on this...\n",
    "\n",
    "# use \"where\" to determine the indices of the start/end (shallowest/deepest) of each profile:\n",
    "\n",
    "# subsampled_data.steric_height.where(subsampled_data.dep == subsampled_data.dep.min(), drop=True)\n",
    "# subsampled_deepest = subsampled_data.where(subsampled_data.dep == subsampled_data.dep.min(), drop=True)\n",
    "\n",
    "# plt.plot(subsampled_data.dep.values[ideep])\n",
    "\n",
    "# this is the DEEPEST point only. \n",
    "subsampled_data = sdata\n",
    "dum = subsampled_data.where(subsampled_data.dep == subsampled_data.dep.min(), drop=True)\n",
    "shall = subsampled_data.where(subsampled_data.dep == subsampled_data.dep.max(), drop=True)\n",
    "%matplotlib inline\n",
    "plt.figure(figsize=(7,5))\n",
    "plt.plot(dum.lon,dum.lat,'.')\n",
    "plt.plot(shall.lon,shall.lat,'.')\n",
    "plt.show()\n"
   ]
  },
  {
   "cell_type": "code",
   "execution_count": null,
   "id": "b3a08c54-6caa-44f1-8c3d-3b4ca1997398",
   "metadata": {},
   "outputs": [],
   "source": [
    "import time\n",
    "# index?\n",
    "ishallow = ( subsampled_data.dep.values == subsampled_data.dep.values.max() )\n",
    "ideep = ( subsampled_data.dep.values == subsampled_data.dep.values.min() )\n",
    "# boolean to index\n",
    "ishallow = [ishallow for ishallow, x in enumerate(ishallow) if x]\n",
    "ideep = [ideep for ideep, x in enumerate(ideep) if x]\n",
    "\n",
    "t_profiles = subsampled_data['time'].isel(points=ishallow)\n",
    "t_profiles.plot()\n",
    "z = np.unique(subsampled_data['dep'])\n",
    "\n",
    "# # # initialize the dataset:\n",
    "# subsampled_profile = xr.Dataset(\n",
    "#     coords={\n",
    "#         \"time\": t_profiles,\n",
    "#         \"depth\": z\n",
    "#     },\n",
    "#     \"Salt\": ((\"time\", \"depth\"), []),\n",
    "# )\n",
    "\n",
    "\n",
    "# loop through each profile:\n",
    "\n",
    "pr = []\n",
    "for n in np.arange(np.size(ishallow)):\n",
    "    i = np.arange(ishallow[n],ideep[n])\n",
    "    # append\n",
    "    pr = np.append(pr,subsampled_data['Salt'].isel(points=i))\n",
    "    \n",
    "#     # loop & interpolate through 3d variables:\n",
    "#     for vbl in vbls3d:\n",
    "# #         subsampled_profile[vbl] = subsampled_data[vbl].isel(points=i)\n",
    "#         dum = subsampled_data[vbl].isel(points=i)\n",
    "\n",
    "pr   \n",
    "        \n",
    "\n",
    "    "
   ]
  },
  {
   "cell_type": "code",
   "execution_count": null,
   "id": "cd9ca9ed-658f-43a8-8427-52a7c967d6cc",
   "metadata": {},
   "outputs": [],
   "source": [
    "n"
   ]
  },
  {
   "cell_type": "code",
   "execution_count": null,
   "id": "401f07c6-148d-441c-84dc-34a4abb3b13c",
   "metadata": {},
   "outputs": [],
   "source": [
    "np.shape(pr)"
   ]
  },
  {
   "cell_type": "code",
   "execution_count": null,
   "id": "aaa038ce-4bb9-488a-a20a-ae3165d88fbe",
   "metadata": {},
   "outputs": [],
   "source": [
    "\n",
    "# # n=0\n",
    "# # i = np.arange(ishallow[n],ideep[n])\n",
    "# # start = time.time()\n",
    "# # dum = subsampled_data.Theta.isel(points=i)\n",
    "# # end = time.time()\n",
    "# # print(\"The time of execution of above program is :\", end-start)"
   ]
  },
  {
   "cell_type": "code",
   "execution_count": null,
   "id": "6cbb24ae-e407-4df7-9226-67e33afb238a",
   "metadata": {},
   "outputs": [],
   "source": [
    "sdata.groupby(\"dep\").mean().scatter()\n"
   ]
  },
  {
   "cell_type": "code",
   "execution_count": null,
   "id": "5a0313b4-255f-4312-a0da-ddc545c23876",
   "metadata": {},
   "outputs": [],
   "source": [
    "ss = xr.Dataset(\n",
    "    {\n",
    "        \"Salt\": ((\"time\", \"depth\"), [subsampled_data.Salt.isel(points=i)]),\n",
    "    },\n",
    "    coords={\n",
    "        \"time\": [1],\n",
    "        \"depth\": z,\n",
    "    },\n",
    "    \n",
    ")\n",
    "ss\n",
    "# \"precipitation\": ((\"lat\", \"lon\"), np.random.rand(4).reshape(2, 2)),"
   ]
  },
  {
   "cell_type": "code",
   "execution_count": null,
   "id": "a298ace1-2bcf-46f9-af55-3f934f089ce9",
   "metadata": {},
   "outputs": [],
   "source": [
    "len(z)"
   ]
  },
  {
   "cell_type": "code",
   "execution_count": null,
   "id": "f82c76ee-cce1-4522-afcc-765104c8df04",
   "metadata": {},
   "outputs": [],
   "source": [
    "subsampled_data"
   ]
  },
  {
   "cell_type": "code",
   "execution_count": null,
   "id": "b9e26b84-7ae1-4942-aa78-31f8cc7bb38f",
   "metadata": {},
   "outputs": [],
   "source": [
    "# {**sampling_details}\n",
    "\n",
    "\n",
    "def test_code(sampling_details):\n",
    "    for key, value in sampling_details.items():\n",
    "#         print(key , '=' , value , '')\n",
    "#         print(type(key))\n",
    "        if isinstance(value,str):\n",
    "            exec(key + '=\"' + value + '\"',None, globals())\n",
    "#             print(key)\n",
    "            \n",
    "        if isinstance(value,list):\n",
    "            exec(key + '=' + str(value) + '',locals(), globals())\n",
    "#             print(key)\n",
    "            \n",
    "    print(zrange+1000)\n",
    "    return zrange\n",
    "    \n",
    "ddd = test_code(sampling_details)\n",
    "# test_code(sampling_details)\n",
    "ddd\n",
    "# for key in sampling_details:\n",
    "#     exec(key + '=' + '\"' + sampling_details[key] + '\"')\n",
    "\n",
    "# isinstance(sampling_details['zrange'],list)\n",
    "# isinstance(sampling_details['SAMPLING_STRATEGY'],list)\n",
    "# isinstance?\n",
    "\n",
    "# type(sampling_details['zrange'])"
   ]
  }
 ],
 "metadata": {
  "kernelspec": {
   "display_name": "Python 3",
   "language": "python",
   "name": "python3"
  },
  "language_info": {
   "codemirror_mode": {
    "name": "ipython",
    "version": 3
   },
   "file_extension": ".py",
   "mimetype": "text/x-python",
   "name": "python",
   "nbconvert_exporter": "python",
   "pygments_lexer": "ipython3",
   "version": "3.9.2"
  }
 },
 "nbformat": 4,
 "nbformat_minor": 5
}
