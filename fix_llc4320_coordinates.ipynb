{
 "cells": [
  {
   "cell_type": "markdown",
   "id": "8e7fa92c-58dd-4fae-9038-8b38fe937be1",
   "metadata": {},
   "source": [
    "Code to transform coorindates in llc4320 regional data that have been loaded into an xarray dataset called \"dss\""
   ]
  },
  {
   "cell_type": "code",
   "execution_count": null,
   "id": "b5103c24-2c5a-4723-83f9-9015cff0f549",
   "metadata": {},
   "outputs": [],
   "source": [
    "# replace dimensional coords i, j, k with lon, lat, depth: \n",
    "# - make lon and lat coordinates:\n",
    "lon = dss.XC.isel(j=0, time=0).values\n",
    "lat = dss.YC.isel(i=0, time=0).values\n",
    "lon_g = dss.XG.isel(j_g=0, time=0).values\n",
    "lat_g = dss.YG.isel(i_g=0, time=0).values\n",
    "dep = dss.Z.isel(time=0).values\n",
    "dep_l = dss.Zl.isel(time=0).values\n",
    "# - assign new values to i,j,k and i_g, j_g\n",
    "dss = dss.assign_coords({'i': lon,'j': lat,'i_g': lon_g,'j_g': lat_g,'k': dep,'k_l': dep_l})\n",
    "# - then, rename i=>lon, j=>lat, k=>dep and same for the *_g variables\n",
    "dss = dss.rename({'i': 'lon','j': 'lat','i_g': 'lon_g','j_g': 'lat_g','k': 'dep','k_l': 'dep_l'})"
   ]
  }
 ],
 "metadata": {
  "kernelspec": {
   "display_name": "Python 3 (ipykernel)",
   "language": "python",
   "name": "python3"
  },
  "language_info": {
   "codemirror_mode": {
    "name": "ipython",
    "version": 3
   },
   "file_extension": ".py",
   "mimetype": "text/x-python",
   "name": "python",
   "nbconvert_exporter": "python",
   "pygments_lexer": "ipython3",
   "version": "3.9.6"
  }
 },
 "nbformat": 4,
 "nbformat_minor": 5
}
