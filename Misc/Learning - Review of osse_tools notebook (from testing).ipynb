{
 "cells": [
  {
   "cell_type": "markdown",
   "id": "dc9d46e0",
   "metadata": {},
   "source": [
    "# Learning - Review of osse_tools notebook (from testing)"
   ]
  },
  {
   "cell_type": "markdown",
   "id": "71d1cb77",
   "metadata": {},
   "source": [
    "Date: 24 June 2022\n",
    "\n",
    "This is the latest updated version of osse_tools shared by Kyla"
   ]
  },
  {
   "cell_type": "markdown",
   "id": "ed61b24a",
   "metadata": {},
   "source": [
    "### 1. How to access data in external hard drive?"
   ]
  },
  {
   "cell_type": "code",
   "execution_count": 10,
   "id": "ac88c386",
   "metadata": {},
   "outputs": [
    {
     "data": {
      "text/plain": [
       "'/'"
      ]
     },
     "execution_count": 10,
     "metadata": {},
     "output_type": "execute_result"
    }
   ],
   "source": [
    "%pwd"
   ]
  },
  {
   "cell_type": "code",
   "execution_count": 11,
   "id": "15070b53",
   "metadata": {},
   "outputs": [
    {
     "name": "stdout",
     "output_type": "stream",
     "text": [
      "\u001b[35mMacintosh HD\u001b[m\u001b[m@   \u001b[34mShared Support\u001b[m\u001b[m/ \u001b[34mTOSHIBA EXT\u001b[m\u001b[m/\r\n"
     ]
    }
   ],
   "source": [
    "ls /Volumes"
   ]
  },
  {
   "cell_type": "code",
   "execution_count": 23,
   "id": "c60d5392",
   "metadata": {},
   "outputs": [
    {
     "data": {
      "text/plain": [
       "'/volumes/TOSHIBA EXT'"
      ]
     },
     "execution_count": 23,
     "metadata": {},
     "output_type": "execute_result"
    }
   ],
   "source": [
    "testdir = \"/volumes/TOSHIBA EXT\"\n",
    "testdir"
   ]
  },
  {
   "cell_type": "code",
   "execution_count": 12,
   "id": "6c2845e5",
   "metadata": {},
   "outputs": [],
   "source": [
    "import os\n",
    "import sys"
   ]
  },
  {
   "cell_type": "code",
   "execution_count": 18,
   "id": "20dbe10d",
   "metadata": {},
   "outputs": [
    {
     "name": "stdout",
     "output_type": "stream",
     "text": [
      "ls: EXT/: No such file or directory\r\n",
      "ls: TOSHIBA: No such file or directory\r\n",
      "/Volumes/:\r\n",
      "\u001b[35mMacintosh HD\u001b[m\u001b[m@   \u001b[34mShared Support\u001b[m\u001b[m/ \u001b[34mTOSHIBA EXT\u001b[m\u001b[m/\r\n"
     ]
    }
   ],
   "source": [
    "ls /Volumes/ TOSHIBA EXT/"
   ]
  },
  {
   "cell_type": "code",
   "execution_count": null,
   "id": "f34f5593",
   "metadata": {},
   "outputs": [],
   "source": [
    "\n",
    " # load json and create model\n",
    "\n",
    "json_file = open('/Volumes/My Passport for Mac/model/model.json', 'r')\n",
    "loaded_model_json = json_file.read()\n",
    "json_file.close()"
   ]
  },
  {
   "cell_type": "code",
   "execution_count": 8,
   "id": "28b05364",
   "metadata": {},
   "outputs": [
    {
     "name": "stderr",
     "output_type": "stream",
     "text": [
      "UsageError: Line magic function `%../` not found.\n"
     ]
    }
   ],
   "source": []
  },
  {
   "cell_type": "code",
   "execution_count": 6,
   "id": "9e3d6e2c",
   "metadata": {},
   "outputs": [
    {
     "ename": "SyntaxError",
     "evalue": "Missing parentheses in call to 'print'. Did you mean print(folder)? (229157935.py, line 5)",
     "output_type": "error",
     "traceback": [
      "\u001b[0;36m  File \u001b[0;32m\"/var/folders/53/h0tv1tdj205_xg1pvfhdgbj00000gn/T/ipykernel_49826/229157935.py\"\u001b[0;36m, line \u001b[0;32m5\u001b[0m\n\u001b[0;31m    print folder\u001b[0m\n\u001b[0m          ^\u001b[0m\n\u001b[0;31mSyntaxError\u001b[0m\u001b[0;31m:\u001b[0m Missing parentheses in call to 'print'. Did you mean print(folder)?\n"
     ]
    }
   ],
   "source": [
    "import os\n",
    "\n",
    "testdir = \"/volumes/TOSHIBA EXT\"\n",
    "for folder in testdir:\n",
    "    print folder"
   ]
  },
  {
   "cell_type": "markdown",
   "id": "f25a3065",
   "metadata": {},
   "source": [
    "# Looking into argo_local and how to receive it from ERDAP"
   ]
  },
  {
   "cell_type": "code",
   "execution_count": null,
   "id": "2453860c",
   "metadata": {},
   "outputs": [],
   "source": []
  }
 ],
 "metadata": {
  "kernelspec": {
   "display_name": "Python 3 (ipykernel)",
   "language": "python",
   "name": "python3"
  },
  "language_info": {
   "codemirror_mode": {
    "name": "ipython",
    "version": 3
   },
   "file_extension": ".py",
   "mimetype": "text/x-python",
   "name": "python",
   "nbconvert_exporter": "python",
   "pygments_lexer": "ipython3",
   "version": "3.9.7"
  }
 },
 "nbformat": 4,
 "nbformat_minor": 5
}
