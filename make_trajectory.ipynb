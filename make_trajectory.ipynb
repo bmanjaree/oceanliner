{
 "cells": [
  {
   "cell_type": "markdown",
   "id": "d2ad4f3d-35a4-474a-88c2-13cbee0ee710",
   "metadata": {
    "tags": []
   },
   "source": [
    "This notebook is for generating trajectory data to feed into the interpolation"
   ]
  },
  {
   "cell_type": "markdown",
   "id": "7fbb20eb-5340-4123-b90a-10abb0612ecd",
   "metadata": {},
   "source": [
    "Glider track: \"survey\" is a function of lat, lon, time, depth\n",
    "\n",
    "Here let's make our survey in the Southern Ocean so we can sample the \"ACC_SMST\" data acquired using the Pre-SWOT_Numerical_Sumulation_Demo notebook. Lon is from 150 to 154, lat is from -57 to -53"
   ]
  },
  {
   "cell_type": "code",
   "execution_count": 1,
   "id": "9eb328d6-cb82-4c45-a007-f55dd679a5cc",
   "metadata": {},
   "outputs": [],
   "source": [
    "%matplotlib inline\n",
    "import numpy as np\n",
    "import xarray as xr\n",
    "import matplotlib.pyplot as plt\n",
    "from math import radians, degrees, sin, cos, asin, acos, sqrt\n",
    "\n",
    "# great circle distance (from Jake Steinberg)\n",
    "def great_circle(lon1, lat1, lon2, lat2):\n",
    "    lon1, lat1, lon2, lat2 = map(radians, [lon1, lat1, lon2, lat2])\n",
    "    return 6371 * (acos(sin(lat1) * sin(lat2) + cos(lat1) * cos(lat2) * cos(lon1 - lon2)))\n"
   ]
  },
  {
   "cell_type": "code",
   "execution_count": 72,
   "id": "ef4b9979-eb9e-4071-978d-4be09034cf00",
   "metadata": {},
   "outputs": [
    {
     "data": {
      "text/plain": [
       "[<matplotlib.lines.Line2D at 0x7f216eb16f40>]"
      ]
     },
     "execution_count": 72,
     "metadata": {},
     "output_type": "execute_result"
    },
    {
     "data": {
      "image/png": "[encoded data removed]",
      "text/plain": [
       "<Figure size 432x288 with 1 Axes>"
      ]
     },
     "metadata": {
      "needs_background": "light"
     },
     "output_type": "display_data"
    }
   ],
   "source": [
    "# --------- define sampling: change the values in this section -------\n",
    "SAMPLING_TYPE = 'glider' # uctd or glider ... could add others\n",
    "PATTERN = 'back-forth' # back-forth or lawnmower ... could add others\n",
    "survey_time_total = 30 * 86400 # if non-zero, limits the survey to a total time (NOTE: could make this optional)\n",
    "    \n",
    "    \n",
    "# typical speeds and depth ranges based on platform \n",
    "if SAMPLING_TYPE == 'uctd':\n",
    "    # typical values for uctd sampling:\n",
    "    zrange = [5, 500] # depth range of profiles \n",
    "    hspeed = 5 # platform horizontal speed in m/s\n",
    "    vspeed = 1 # platform vertical (profile) speed in m/s (NOTE: may want different up/down speeds)\n",
    "\n",
    "elif SAMPLING_TYPE == 'glider':\n",
    "    # typical values for glider sampling:\n",
    "    zrange = [1, 1000] # depth range of profiles \n",
    "    hspeed = 0.25 # platform horizontal speed in m/s\n",
    "    vspeed = 0.25 # platform vertical (profile) speed in m/s  (NOTE: is this typical?)\n",
    "    \n",
    "# define x & y waypoints and z range\n",
    "# xwaypoints & ywaypoints must have the same size\n",
    "if PATTERN == 'lawnmower':\n",
    "    # \"mow the lawn\" pattern - define all waypoints\n",
    "    xwaypoints = [151, 151, 151.5, 151.5, 152, 152, 152.5, 152.5]\n",
    "    ywaypoints = [-56, -55,   -55,   -56, -56, -55, -55, -56] \n",
    "elif PATTERN == 'back-forth':\n",
    "    # repeated back & forth transects - define the end-points\n",
    "    xwaypoints = [151, 152]\n",
    "    ywaypoints = [-56, -55]\n",
    "    # repeat waypoints based on # of transects: \n",
    "    dkm_per_transect = great_circle(xwaypoints[0], ywaypoints[0], xwaypoints[1], ywaypoints[1]) # distance of one transect in km\n",
    "    t_per_transect = dkm_per_transect * 1000 / hspeed # time per transect, seconds\n",
    "    num_transects = np.round(sample_time_total / t_per_transect)\n",
    "    for n in np.arange(num_transects):\n",
    "        xwaypoints = np.append(xwaypoints, xwaypoints[-2])\n",
    "        ywaypoints = np.append(ywaypoints, ywaypoints[-2])\n",
    "\n",
    "plt.plot(xwaypoints, ywaypoints,'.-')\n"
   ]
  },
  {
   "cell_type": "code",
   "execution_count": 93,
   "id": "61596114-753d-406e-87f3-5485ff7158b1",
   "metadata": {},
   "outputs": [],
   "source": [
    "# time resolution of sampling (dt):\n",
    "# use the time between vertical measurements\n",
    "# for now, use a constant  vertical resolution (can change this later)\n",
    "zresolution = 10 # meters\n",
    "zprofile = np.arange(zrange[0],zrange[1],zresolution) # depths for one profile\n",
    "ztwoway = np.append(zprofile,zprofile[-1:0:-1])\n",
    "\n",
    "dt = zresolution / vspeed # sampling resolution in seconds\n",
    "# for each timestep dt \n",
    "deltah = hspeed*dt # horizontal distance traveled per sample\n",
    "deltav = vspeed*dt # vertical distance traveled per sample\n",
    "\n",
    "\n",
    "# determine the sampling locations in 2-d space\n",
    "# - initialize sample locations xs, ys, zs, ts\n",
    "xs = []\n",
    "ys = []\n",
    "zs = []\n",
    "ts = []\n",
    "dkm_total = 0 \n",
    "for w in np.arange(len(xwaypoints)-1):\n",
    "    # interpolate between this and the following waypoint:\n",
    "    dkm = great_circle(xwaypoints[w], ywaypoints[w], xwaypoints[w+1], ywaypoints[w+1])\n",
    "    # number of time steps (vertical measurements) between this and the next waypoint\n",
    "    nstep = int(dkm*1000 / deltah) \n",
    "    yi = np.linspace(ywaypoints[w], ywaypoints[w+1], nstep)\n",
    "    xi = np.linspace(xwaypoints[w], xwaypoints[w+1], nstep)\n",
    "    xi = xi[0:-1] # remove last point, which is the next waypoint\n",
    "    xs = np.append(xs, xi) # append\n",
    "    yi = yi[0:-1] # remove last point, which is the next waypoint\n",
    "    ys = np.append(ys, yi) # append\n",
    "    dkm_total = dkm_total + dkm\n",
    "    t_total = dkm_total * 1000 / hspeed\n",
    "    # cut off the survey after survey_time_total, if specified\n",
    "    if survey_time_total > 0 and t_total > survey_time_total:\n",
    "        break\n",
    "\n",
    "# depths: repeat (tile) the two-way sampling depths (NOTE: for UCTD sampling, often only use down-cast data)\n",
    "# how many profiles do we make during the survey?\n",
    "n_profiles = np.ceil(xs.size / ztwoway.size)\n",
    "zs = np.tile(ztwoway, int(n_profiles))\n",
    "zs = zs[0:xs.size]\n",
    "# sample times: (units are in seconds since zero)\n",
    "ts = dt * np.arange(xs.size) # time of each sample"
   ]
  },
  {
   "cell_type": "code",
   "execution_count": 94,
   "id": "4438c2e8-cf81-44d6-a47c-fa1ae688031a",
   "metadata": {},
   "outputs": [],
   "source": [
    "# put into the survey dataset:\n",
    "survey = xr.Dataset(\n",
    "    dict(\n",
    "        lon = xr.DataArray(xs,dims='points'),\n",
    "        lat = xr.DataArray(ys,dims='points'),\n",
    "        time = xr.DataArray(ts,dims='points'),\n",
    "        dep = xr.DataArray(zs,dims='points')\n",
    "    )\n",
    ")"
   ]
  },
  {
   "cell_type": "code",
   "execution_count": null,
   "id": "daede924-d76c-406b-9c3b-e086d94a88b4",
   "metadata": {},
   "outputs": [],
   "source": []
  }
 ],
 "metadata": {
  "kernelspec": {
   "display_name": "Python 3 (ipykernel)",
   "language": "python",
   "name": "python3"
  },
  "language_info": {
   "codemirror_mode": {
    "name": "ipython",
    "version": 3
   },
   "file_extension": ".py",
   "mimetype": "text/x-python",
   "name": "python",
   "nbconvert_exporter": "python",
   "pygments_lexer": "ipython3",
   "version": "3.9.6"
  }
 },
 "nbformat": 4,
 "nbformat_minor": 5
}
