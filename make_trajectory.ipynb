{
 "cells": [
  {
   "cell_type": "markdown",
   "id": "d2ad4f3d-35a4-474a-88c2-13cbee0ee710",
   "metadata": {
    "tags": []
   },
   "source": [
    "This notebook is for generating trajectory data to feed into the interpolation"
   ]
  },
  {
   "cell_type": "markdown",
   "id": "7fbb20eb-5340-4123-b90a-10abb0612ecd",
   "metadata": {},
   "source": [
    "Glider track: \"survey\" is a function of lat, lon, time, depth\n",
    "\n",
    "Here let's make our survey in the Southern Ocean so we can sample the \"ACC_SMST\" data acquired using the Pre-SWOT_Numerical_Sumulation_Demo notebook. Lon is from 150 to 154, lat is from -57 to -53"
   ]
  },
  {
   "cell_type": "code",
   "execution_count": 1,
   "id": "9eb328d6-cb82-4c45-a007-f55dd679a5cc",
   "metadata": {},
   "outputs": [],
   "source": [
    "%matplotlib inline\n",
    "import numpy as np\n",
    "import xarray as xr\n",
    "import matplotlib.pyplot as plt\n",
    "from math import radians, degrees, sin, cos, asin, acos, sqrt\n",
    "\n",
    "# great circle distance (from Jake Steinberg)\n",
    "def great_circle(lon1, lat1, lon2, lat2):\n",
    "    lon1, lat1, lon2, lat2 = map(radians, [lon1, lat1, lon2, lat2])\n",
    "    return 6371 * (acos(sin(lat1) * sin(lat2) + cos(lat1) * cos(lat2) * cos(lon1 - lon2)))\n"
   ]
  },
  {
   "cell_type": "code",
   "execution_count": 2,
   "id": "ef4b9979-eb9e-4071-978d-4be09034cf00",
   "metadata": {},
   "outputs": [
    {
     "data": {
      "text/plain": [
       "[<matplotlib.lines.Line2D at 0x7fbfaca38070>]"
      ]
     },
     "execution_count": 2,
     "metadata": {},
     "output_type": "execute_result"
    },
    {
     "data": {
      "image/png": "[encoded data removed]",
      "text/plain": [
       "<Figure size 432x288 with 1 Axes>"
      ]
     },
     "metadata": {
      "needs_background": "light"
     },
     "output_type": "display_data"
    }
   ],
   "source": [
    "# --------- define sampling: change the values in this section -------\n",
    "# 3-D sampling: glider or ship-towed underway CTD\n",
    "# define x & y waypoints and z range\n",
    "# x & y must have the same size\n",
    "xwaypoints = [151, 151, 151.5, 151.5, 152, 152, 152.5, 152.5]\n",
    "ywaypoints = [-56, -55,   -55,   -56, -56, -55, -55, -56] \n",
    "zrange = [5, 500] # depth range of profiles \n",
    "hspeed = 5 # platform horizontal speed in m/s\n",
    "vspeed = 1 # platform vertical (profile) speed in m/s * note, may want different up/down speeds \n",
    "plt.plot(xwaypoints, ywaypoints,'.-')"
   ]
  },
  {
   "cell_type": "code",
   "execution_count": 3,
   "id": "bab4c463-8381-4c10-9e18-0a3834a6911b",
   "metadata": {},
   "outputs": [],
   "source": [
    "# time resolution of sampling (dt):\n",
    "# 1) could use the model timestep (e.g., 1 hour)\n",
    "# 2) could use the time of one round-trip vertical profile (could smaller than the model timestep). In this case, we would have to interpolate in lat/lon and depth separetely. \n",
    "# 3) could use the time between vertical measurements, since that's ultimately how we want to sample the model in the vertical- but this will make a HUGE set of points to interpolate to, which may be very slow/expensive.\n",
    "\n",
    "# Here, use method 1/2: the smaller of 1 hour and the roundtrip profile time   \n",
    "if 0:  # SKIP THIS\n",
    "    dt_roundtrip = np.diff(zrange) / vspeed * 2\n",
    "    dt = min([3600, dt_roundtrip])\n",
    "\n",
    "    # determine the sampling locations in 2-d space\n",
    "    # - initialize sample locations xs, ys \n",
    "    xs = []\n",
    "    ys = []\n",
    "    dkm_total = 0 \n",
    "    for w in np.arange(len(xwaypoints)-1):\n",
    "        # interpolate between this and the following waypoint:\n",
    "        dkm = great_circle(xwaypoints[w], ywaypoints[w], xwaypoints[w+1], ywaypoints[w+1])\n",
    "        # number of steps (profiles) between this and the next waypoint\n",
    "        nstep = int(dkm*1000 / deltah) \n",
    "        yi = np.linspace(ywaypoints[w], ywaypoints[w+1], nstep)\n",
    "        xi = np.linspace(xwaypoints[w], xwaypoints[w+1], nstep)\n",
    "        xi = xi[0:-1] # remove last point, which is the next waypoint\n",
    "        xs = np.append(xs, xi) # append\n",
    "        yi = yi[0:-1] # remove last point, which is the next waypoint\n",
    "        ys = np.append(ys, yi) # append\n",
    "        dkm_total = dkm_total + dkm\n",
    "\n",
    "    # depths:\n",
    "    # for now, use a constant  vertical resolution (can change this later)\n",
    "    zresolution = 10 # meters\n",
    "    zprofile = np.arange(zrange[0],zrange[1],zresolution) # depths for one profile\n",
    "    ztwoway = np.append(zprofile,zprofile[-1:0:-1])\n",
    "    # how many profiles do we make during the survey?\n",
    "    # one profile per lon/lat step:\n",
    "    n_profiles = xs.size\n",
    "    zs = np.tile(ztwoway, n_profiles)\n",
    "    # *** zs does NOT have the same size as xs and ys, so we will have to interpolate them separately\n",
    "\n",
    "    # sample times: \n",
    "    # - time for a single two-way profile is dt_roundtrip\n",
    "    time_profiles = dt_roundtrip * np.arange(n_profiles) # time of each profile (seconds)\n",
    "    time_total = np.sum(time_profiles)"
   ]
  },
  {
   "cell_type": "code",
   "execution_count": 4,
   "id": "61596114-753d-406e-87f3-5485ff7158b1",
   "metadata": {},
   "outputs": [],
   "source": [
    "# time resolution of sampling (dt):\n",
    "# 1) could use the model timestep (e.g., 1 hour)\n",
    "# 2) could use the time of one round-trip vertical profile (could smaller than the model timestep). In this case, we would have to interpolate in lat/lon and depth separetely. \n",
    "# 3) could use the time between vertical measurements, since that's ultimately how we want to sample the model in the vertical- but this will make a HUGE set of points to interpolate to, which may be very slow/expensive.\n",
    "\n",
    "\n",
    "# Here, use method 3: define sampling based on the time of each measurement\n",
    "# for now, use a constant  vertical resolution (can change this later)\n",
    "zresolution = 10 # meters\n",
    "zprofile = np.arange(zrange[0],zrange[1],zresolution) # depths for one profile\n",
    "ztwoway = np.append(zprofile,zprofile[-1:0:-1])\n",
    "\n",
    "dt = zresolution / vspeed # sampling resolution in seconds\n",
    "# for each timestep dt \n",
    "deltah = hspeed*dt # horizontal distance traveled per sample\n",
    "deltav = vspeed*dt # vertical distance traveled per sample\n",
    "\n",
    "\n",
    "# determine the sampling locations in 2-d space\n",
    "# - initialize sample locations xs, ys, zs, ts\n",
    "xs = []\n",
    "ys = []\n",
    "zs = []\n",
    "ts = []\n",
    "dkm_total = 0 \n",
    "for w in np.arange(len(xwaypoints)-1):\n",
    "    # interpolate between this and the following waypoint:\n",
    "    dkm = great_circle(xwaypoints[w], ywaypoints[w], xwaypoints[w+1], ywaypoints[w+1])\n",
    "    # number of time steps (vertical measurements) between this and the next waypoint\n",
    "    nstep = int(dkm*1000 / deltah) \n",
    "    yi = np.linspace(ywaypoints[w], ywaypoints[w+1], nstep)\n",
    "    xi = np.linspace(xwaypoints[w], xwaypoints[w+1], nstep)\n",
    "    xi = xi[0:-1] # remove last point, which is the next waypoint\n",
    "    xs = np.append(xs, xi) # append\n",
    "    yi = yi[0:-1] # remove last point, which is the next waypoint\n",
    "    ys = np.append(ys, yi) # append\n",
    "    dkm_total = dkm_total + dkm\n",
    "\n",
    "# depths:\n",
    "# how many profiles do we make during the survey?\n",
    "n_profiles = np.ceil(xs.size / ztwoway.size)\n",
    "zs = np.tile(ztwoway, int(n_profiles))\n",
    "zs = zs[0:xs.size]\n",
    "# sample times: (units are in seconds since zero)\n",
    "ts = dt * np.arange(xs.size) # time of each sample\n",
    "time_total = np.sum(ts) "
   ]
  },
  {
   "cell_type": "code",
   "execution_count": 5,
   "id": "4438c2e8-cf81-44d6-a47c-fa1ae688031a",
   "metadata": {},
   "outputs": [],
   "source": [
    "# put into the survey dataset:\n",
    "survey = xr.Dataset(\n",
    "    dict(\n",
    "        lon = xr.DataArray(xs,dims='points'),\n",
    "        lat = xr.DataArray(ys,dims='points'),\n",
    "        time = xr.DataArray(ts,dims='points'),\n",
    "        dep = xr.DataArray(zs,dims='points')\n",
    "    )\n",
    ")"
   ]
  }
 ],
 "metadata": {
  "kernelspec": {
   "display_name": "Python 3 (ipykernel)",
   "language": "python",
   "name": "python3"
  },
  "language_info": {
   "codemirror_mode": {
    "name": "ipython",
    "version": 3
   },
   "file_extension": ".py",
   "mimetype": "text/x-python",
   "name": "python",
   "nbconvert_exporter": "python",
   "pygments_lexer": "ipython3",
   "version": "3.9.6"
  }
 },
 "nbformat": 4,
 "nbformat_minor": 5
}
